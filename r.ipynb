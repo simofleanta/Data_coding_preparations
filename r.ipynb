{
 "metadata": {
  "language_info": {
   "codemirror_mode": {
    "name": "ipython",
    "version": 3
   },
   "file_extension": ".py",
   "mimetype": "text/x-python",
   "name": "python",
   "nbconvert_exporter": "python",
   "pygments_lexer": "ipython3",
   "version": "3.8.2-final"
  },
  "orig_nbformat": 2,
  "kernelspec": {
   "name": "python3",
   "display_name": "Python 3.8.2 32-bit",
   "metadata": {
    "interpreter": {
     "hash": "2c9f59526c032d06429de540675487e911bf69c7a10b3b3b86e915eee204f9ed"
    }
   }
  }
 },
 "nbformat": 4,
 "nbformat_minor": 2,
 "cells": [
  {
   "cell_type": "code",
   "execution_count": 17,
   "metadata": {},
   "outputs": [
    {
     "output_type": "stream",
     "name": "stdout",
     "text": [
      "Index(['Marketing_Channel', 'Month', 'Date', 'Revenue_as_Percentage'], dtype='object')\n          Marketing_Channel     Month      Date  Revenue_as_Percentage\n0      Influencer Marketing  1/1/2021  2/6/2021              -300.0000\n1   search engine marketing  2/1/2021  2/3/2021              -150.0000\n2                 affiliate  1/1/2021  2/5/2021               -42.8571\n3   search engine marketing  1/1/2021  2/3/2021               -25.0000\n4                 affiliate  2/1/2021  2/5/2021               -25.0000\n5   search engine marketing  2/1/2021  1/1/2021                 0.0000\n6                 affiliate  1/1/2021  1/1/2021                14.2857\n7      Influencer Marketing  2/1/2021  2/6/2021                20.0000\n8                 affiliate  2/1/2021  1/1/2021                25.0000\n9                       crm  2/1/2021  1/1/2021                33.3333\n10                      crm  1/1/2021  1/1/2021                33.3333\n11             Social media  1/1/2021  2/2/2021                33.3333\n12                      crm  2/1/2021  2/4/2021                33.3333\n13                      crm  1/1/2021  2/4/2021                33.3333\n14  search engine marketing  1/1/2021  1/1/2021                50.0000\n15     Influencer Marketing  1/1/2021  1/1/2021                60.0000\n16             Social media  2/1/2021  2/2/2021                60.0000\n17             Social media  1/1/2021  1/1/2021                66.6667\n18             Social media  2/1/2021  1/1/2021                80.0000\n19     Influencer Marketing  2/1/2021  1/1/2021                92.0000\n                  Marketing_Channel     Month  Revenue_as_Percentage\nDate                                                                \n2021-02-06     Influencer Marketing  1/1/2021              -300.0000\n2021-02-03  search engine marketing  2/1/2021              -150.0000\n2021-02-05                affiliate  1/1/2021               -42.8571\n2021-02-03  search engine marketing  1/1/2021               -25.0000\n2021-02-05                affiliate  2/1/2021               -25.0000\n2021-01-01  search engine marketing  2/1/2021                 0.0000\n2021-01-01                affiliate  1/1/2021                14.2857\n2021-02-06     Influencer Marketing  2/1/2021                20.0000\n2021-01-01                affiliate  2/1/2021                25.0000\n2021-01-01                      crm  2/1/2021                33.3333\n2021-01-01                      crm  1/1/2021                33.3333\n2021-02-02             Social media  1/1/2021                33.3333\n2021-02-04                      crm  2/1/2021                33.3333\n2021-02-04                      crm  1/1/2021                33.3333\n2021-01-01  search engine marketing  1/1/2021                50.0000\n2021-01-01     Influencer Marketing  1/1/2021                60.0000\n2021-02-02             Social media  2/1/2021                60.0000\n2021-01-01             Social media  1/1/2021                66.6667\n2021-01-01             Social media  2/1/2021                80.0000\n2021-01-01     Influencer Marketing  2/1/2021                92.0000\n          Marketing_Channel     Month       Date  Revenue_as_Percentage  Year  \\\n0      Influencer Marketing  February 2021-02-06              -300.0000  2021   \n1   search engine marketing  February 2021-02-03              -150.0000  2021   \n2                 affiliate  February 2021-02-05               -42.8571  2021   \n3   search engine marketing  February 2021-02-03               -25.0000  2021   \n4                 affiliate  February 2021-02-05               -25.0000  2021   \n5   search engine marketing   January 2021-01-01                 0.0000  2021   \n6                 affiliate   January 2021-01-01                14.2857  2021   \n7      Influencer Marketing  February 2021-02-06                20.0000  2021   \n8                 affiliate   January 2021-01-01                25.0000  2021   \n9                       crm   January 2021-01-01                33.3333  2021   \n10                      crm   January 2021-01-01                33.3333  2021   \n11             Social media  February 2021-02-02                33.3333  2021   \n12                      crm  February 2021-02-04                33.3333  2021   \n13                      crm  February 2021-02-04                33.3333  2021   \n14  search engine marketing   January 2021-01-01                50.0000  2021   \n15     Influencer Marketing   January 2021-01-01                60.0000  2021   \n16             Social media  February 2021-02-02                60.0000  2021   \n17             Social media   January 2021-01-01                66.6667  2021   \n18             Social media   January 2021-01-01                80.0000  2021   \n19     Influencer Marketing   January 2021-01-01                92.0000  2021   \n\n    Day  \n0     6  \n1     3  \n2     5  \n3     3  \n4     5  \n5     1  \n6     1  \n7     6  \n8     1  \n9     1  \n10    1  \n11    2  \n12    4  \n13    4  \n14    1  \n15    1  \n16    2  \n17    1  \n18    1  \n19    1  \n"
     ]
    }
   ],
   "source": [
    "import pandas as pd\n",
    "import seaborn as sns \n",
    "from pandas import DataFrame\n",
    "import matplotlib.pyplot as plt\n",
    "import matplotlib.pyplot as plt \n",
    "import datetime\n",
    "\n",
    "#taking the calculated revenues based on the comaprison actual and target\n",
    "\n",
    "r=pd.read_csv('Revenue _as_p_corrected.csv')\n",
    "print(r.columns)\n",
    "r=DataFrame(r.head(20))\n",
    "print(r.head(20))\n",
    "\n",
    "#parse index\n",
    "r['Date']=pd.to_datetime(r['Date'], infer_datetime_format=True)\n",
    "indexeddf=r.set_index(['Date'])\n",
    "print(indexeddf)\n",
    "\n",
    "#parsing to time format and extracting dates with 'created_at'\n",
    "x=r['Date']=pd.to_datetime(r['Date'], format='%m-%d-%y')\n",
    "\n",
    "Day=r['Date'].dt.day\n",
    "Month=r['Date'].dt.month_name()\n",
    "Year=r['Date'].dt.year\n",
    "\n",
    "#subsetting \n",
    "r['Year']=r['Date'].dt.year\n",
    "r['Month']=r['Date'].dt.month_name()\n",
    "r['Day']=r['Date'].dt.day\n",
    "\n",
    "print(r)\n",
    "\n",
    "#day_index per week 'D' \n",
    "Month_index=indexeddf.resample('M').mean()\n",
    "print(Month_index)"
   ]
  },
  {
   "cell_type": "code",
   "execution_count": null,
   "metadata": {},
   "outputs": [],
   "source": []
  }
 ]
}