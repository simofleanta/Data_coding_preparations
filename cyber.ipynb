{
 "metadata": {
  "language_info": {
   "codemirror_mode": {
    "name": "ipython",
    "version": 3
   },
   "file_extension": ".py",
   "mimetype": "text/x-python",
   "name": "python",
   "nbconvert_exporter": "python",
   "pygments_lexer": "ipython3",
   "version": "3.8.2-final"
  },
  "orig_nbformat": 2,
  "kernelspec": {
   "name": "python3",
   "display_name": "Python 3.8.2 32-bit",
   "metadata": {
    "interpreter": {
     "hash": "2c9f59526c032d06429de540675487e911bf69c7a10b3b3b86e915eee204f9ed"
    }
   }
  }
 },
 "nbformat": 4,
 "nbformat_minor": 2,
 "cells": [
  {
   "cell_type": "code",
   "execution_count": 5,
   "metadata": {},
   "outputs": [],
   "source": [
    "import pandas as pd\n",
    "import seaborn as sns \n",
    "from pandas import DataFrame\n",
    "import matplotlib.pyplot as plt\n",
    "import plotly.express as px\n",
    "import plotly.graph_objects as go\n",
    "from sklearn.preprocessing import LabelEncoder\n",
    "import numpy as np\n",
    "import plotly\n",
    "import statistics\n",
    "import plotly.express as px\n",
    "import stats\n",
    "import matplotlib.pyplot as plt \n",
    "from sklearn.model_selection import train_test_split\n",
    "from sklearn.ensemble import RandomForestRegressor\n",
    "from sklearn.cluster import KMeans\n",
    "from sklearn.metrics import r2_score\n",
    "import plotly.express as px\n",
    "import datetime\n",
    "import datetime as dt\n",
    "import time\n",
    "import django.template.backends.jinja2"
   ]
  },
  {
   "cell_type": "code",
   "execution_count": 9,
   "metadata": {},
   "outputs": [
    {
     "output_type": "stream",
     "name": "stdout",
     "text": [
      "      Unnamed: 0  Number                             Name_of_Covered_Entity  \\\n0              1       0                         Brooke Army Medical Center   \n1              2       1          Mid America Kidney Stone Association, LLC   \n2              3       2    Alaska Department of Health and Social Services   \n3              4       3  Health Services for Children with Special Need...   \n4              5       4                           L. Douglas Carlson, M.D.   \n...          ...     ...                                                ...   \n1050        1051    1050                      Puerto Rico Health Insurance    \n1051        1052    1051                       Hospitalists of Brandon, LLC   \n1052        1053    1052                      Santa Rosa Memorial Hospital    \n1053        1054    1053         Group Health Plan of Hurley Medical Center   \n1054        1055    1054                            Abrham Tekola, M.D.,INC   \n\n     State          Business_Associate_Involved  Individuals_Affected  \\\n0       TX                                  NaN                  1000   \n1       MO                                  NaN                  1000   \n2       AK                                  NaN                   501   \n3       DC                                  NaN                  3800   \n4       CA                                  NaN                  5257   \n...    ...                                  ...                   ...   \n1050    PR                  American Health Inc                 28413   \n1051    FL  Doctors First Choice Billings, Inc.                  1831   \n1052    CA                                  NaN                 33702   \n1053    MI                                  NaN                  2289   \n1054    CA                                  NaN                  5471   \n\n     Date_of_Breach                  Type_of_Breach  \\\n0        10/16/2009                           Theft   \n1         9/22/2009                           Theft   \n2        10/12/2009                           Theft   \n3         10/9/2009                            Loss   \n4         9/27/2009                           Theft   \n...             ...                             ...   \n1050      9/20/2013                           Theft   \n1051      2/11/2014             Hacking/IT Incident   \n1052       6/2/2014                     Theft, Loss   \n1053      5/13/2014  Unauthorized Access/Disclosure   \n1054      5/27/2014                           Theft   \n\n             Location_of_Breached_Information Date_Posted_or_Updated  \\\n0                                       Paper             2014-06-30   \n1                              Network Server             2014-05-30   \n2     Other Portable Electronic Device, Other             2014-01-23   \n3                                      Laptop             2014-01-23   \n4                            Desktop Computer             2014-01-23   \n...                                       ...                    ...   \n1050                                    Other             2014-06-27   \n1051                                    Other             2014-06-27   \n1052         Other Portable Electronic Device             2014-06-27   \n1053                                   E-mail             2014-06-27   \n1054                         Desktop Computer             2014-06-27   \n\n                                                Summary breach_start  \\\n0     A binder containing the protected health infor...   2009-10-16   \n1     Five desktop computers containing unencrypted ...   2009-09-22   \n2                                                   NaN   2009-10-12   \n3     A laptop was lost by an employee while in tran...   2009-10-09   \n4     A shared Computer that was used for backup was...   2009-09-27   \n...                                                 ...          ...   \n1050                                                NaN   2013-09-20   \n1051                                                NaN   2014-02-11   \n1052                                                NaN   2014-06-02   \n1053                                                NaN   2014-05-13   \n1054                                                NaN   2014-05-27   \n\n     breach_end  year  \n0           NaN  2009  \n1           NaN  2009  \n2           NaN  2009  \n3           NaN  2009  \n4           NaN  2009  \n...         ...   ...  \n1050        NaN  2013  \n1051        NaN  2014  \n1052        NaN  2014  \n1053        NaN  2014  \n1054        NaN  2014  \n\n[1055 rows x 14 columns]\n"
     ]
    }
   ],
   "source": [
    "c='Cyber Security Breaches.csv'\n",
    "df=pd.read_csv(c)\n",
    "print(df)"
   ]
  },
  {
   "cell_type": "code",
   "execution_count": 10,
   "metadata": {},
   "outputs": [],
   "source": [
    "year_order = df['year'].value_counts().index\n",
    "state_order = df['State'].value_counts().index\n",
    "attack_order = df['Type_of_Breach'].value_counts().index"
   ]
  },
  {
   "cell_type": "code",
   "execution_count": null,
   "metadata": {},
   "outputs": [],
   "source": []
  }
 ]
}