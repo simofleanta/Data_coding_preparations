{
 "metadata": {
  "language_info": {
   "codemirror_mode": {
    "name": "ipython",
    "version": 3
   },
   "file_extension": ".py",
   "mimetype": "text/x-python",
   "name": "python",
   "nbconvert_exporter": "python",
   "pygments_lexer": "ipython3",
   "version": "3.8.2-final"
  },
  "orig_nbformat": 2,
  "kernelspec": {
   "name": "python3",
   "display_name": "Python 3.8.2 32-bit",
   "metadata": {
    "interpreter": {
     "hash": "2c9f59526c032d06429de540675487e911bf69c7a10b3b3b86e915eee204f9ed"
    }
   }
  }
 },
 "nbformat": 4,
 "nbformat_minor": 2,
 "cells": [
  {
   "cell_type": "code",
   "execution_count": 6,
   "metadata": {},
   "outputs": [],
   "source": [
    "import pandas as pd\n",
    "import seaborn as sns \n",
    "from pandas import DataFrame\n",
    "import matplotlib.pyplot as plt\n",
    "import plotly.express as px\n",
    "import plotly.graph_objects as go\n",
    "from sklearn.preprocessing import LabelEncoder\n",
    "import numpy as np\n",
    "import plotly\n",
    "import statistics\n",
    "import plotly.express as px\n",
    "import stats\n",
    "import matplotlib.pyplot as plt \n",
    "from sklearn.model_selection import train_test_split\n",
    "from sklearn.ensemble import RandomForestRegressor\n",
    "from sklearn.metrics import r2_score\n",
    "import plotly.express as px\n",
    "import datetime\n",
    "import datetime as dt\n",
    "import time\n",
    "\n",
    "\n",
    "# Supress Scientific notation in python\n",
    "pd.set_option('display.float_format', lambda x: '%.2f' % x)\n",
    "\n",
    "# Display all columns of long dataframe\n",
    "pd.set_option('display.max_columns', None)\n",
    "\n",
    "#data from Kaggle.com\n",
    "#open file\n",
    "stocks='stocks.csv'\n",
    "df=pd.read_csv(stocks)\n",
    "#print(df)"
   ]
  },
  {
   "cell_type": "code",
   "execution_count": 12,
   "metadata": {},
   "outputs": [],
   "source": [
    "#parse index\n",
    "df['Date']=pd.to_datetime(df['Date'], infer_datetime_format=True)\n",
    "indexeddf=df.set_index(['Date'])\n",
    "#print(indexeddf)\n",
    "\n",
    "#parsing to time format and extracting dates \n",
    "x=df['Date']=pd.to_datetime(df['Date'], format='%d-%m-%y')\n",
    "\n",
    "Day=df['Date'].dt.day_name()\n",
    "Month=df['Date'].dt.month_name()\n",
    "Year=df['Date'].dt.year\n",
    "\n",
    "df['Year']=df['Date'].dt.year\n",
    "df['Month']=df['Date'].dt.month_name()\n",
    "df['Day']=df['Date'].dt.day_name()\n",
    "#print(df)"
   ]
  },
  {
   "cell_type": "code",
   "execution_count": 13,
   "metadata": {},
   "outputs": [],
   "source": [
    "def get_month(x):\n",
    "    return dt.datetime (x.year, x.month, 1)\n",
    "\n",
    "df['StockMonth']=df['Date'].apply(get_month)\n",
    "grouping=df.groupby('Code')['StockMonth']\n",
    "df['CohortMonth']=grouping.transform('min')"
   ]
  },
  {
   "source": [
    "# Calculate offset"
   ],
   "cell_type": "markdown",
   "metadata": {}
  },
  {
   "cell_type": "code",
   "execution_count": 16,
   "metadata": {},
   "outputs": [],
   "source": [
    "def get_month_int(cohortframe, column):\n",
    "    \"\"\"function to generate date columns\"\"\"\n",
    "    year=cohortframe[column].dt.year\n",
    "    month=cohortframe[column].dt.month\n",
    "    day=cohortframe[column].dt.day\n",
    "    return year, month, day\n",
    "\n",
    "    \n",
    "#call function \n",
    "stock_year, stock_month, stock_day_=get_month_int(df,'StockMonth')\n",
    "cohort_year, cohort_month,cohort_day_=get_month_int(df,'CohortMonth')\n",
    "\n",
    "#create year an month diffs\n",
    "year_diff=stock_year-cohort_year\n",
    "month_diff=stock_month-cohort_month"
   ]
  },
  {
   "source": [
    "# Create cohort index"
   ],
   "cell_type": "markdown",
   "metadata": {}
  },
  {
   "cell_type": "code",
   "execution_count": 17,
   "metadata": {},
   "outputs": [],
   "source": [
    "df['CohortIndex']=year_diff * 12 + month_diff +1 "
   ]
  },
  {
   "source": [
    "# Monthly cohort count"
   ],
   "cell_type": "markdown",
   "metadata": {}
  },
  {
   "cell_type": "code",
   "execution_count": 37,
   "metadata": {},
   "outputs": [
    {
     "output_type": "stream",
     "name": "stdout",
     "text": [
      "CohortIndex   1     2     3     4     5    6    7    8    9    10   11   12   \\\nStockMonth                                                                     \n2011-12-01  32.00   nan   nan   nan   nan  nan  nan  nan  nan  nan  nan  nan   \n2012-01-01  27.00 32.00   nan   nan   nan  nan  nan  nan  nan  nan  nan  nan   \n2012-02-01  10.00 26.00 32.00   nan   nan  nan  nan  nan  nan  nan  nan  nan   \n2012-03-01  51.00 10.00 27.00 32.00   nan  nan  nan  nan  nan  nan  nan  nan   \n2012-04-01  57.00 51.00 10.00 27.00 32.00  nan  nan  nan  nan  nan  nan  nan   \n...           ...   ...   ...   ...   ...  ...  ...  ...  ...  ...  ...  ...   \n2020-11-01    nan  1.00   nan  1.00   nan 1.00  nan  nan  nan  nan  nan 1.00   \n2020-12-01    nan   nan  1.00   nan  1.00  nan 1.00  nan  nan  nan  nan  nan   \n2021-01-01    nan   nan   nan  1.00   nan 1.00  nan 1.00  nan  nan  nan  nan   \n2021-02-01    nan   nan   nan   nan  1.00  nan 1.00  nan 1.00  nan  nan  nan   \n2021-03-01    nan   nan   nan   nan   nan 1.00  nan 1.00  nan 1.00  nan  nan   \n\nCohortIndex  13   14   15   16   17   18   19   20   21   22   23   24   25   \\\nStockMonth                                                                     \n2011-12-01   nan  nan  nan  nan  nan  nan  nan  nan  nan  nan  nan  nan  nan   \n2012-01-01   nan  nan  nan  nan  nan  nan  nan  nan  nan  nan  nan  nan  nan   \n2012-02-01   nan  nan  nan  nan  nan  nan  nan  nan  nan  nan  nan  nan  nan   \n2012-03-01   nan  nan  nan  nan  nan  nan  nan  nan  nan  nan  nan  nan  nan   \n2012-04-01   nan  nan  nan  nan  nan  nan  nan  nan  nan  nan  nan  nan  nan   \n...          ...  ...  ...  ...  ...  ...  ...  ...  ...  ...  ...  ...  ...   \n2020-11-01  1.00 2.00  nan 1.00  nan 3.00  nan  nan  nan  nan  nan  nan  nan   \n2020-12-01  1.00 1.00 2.00  nan 1.00  nan 3.00  nan  nan  nan  nan  nan  nan   \n2021-01-01   nan 1.00 1.00 2.00  nan 1.00  nan 3.00  nan  nan  nan  nan  nan   \n2021-02-01   nan  nan 1.00 1.00 2.00  nan 1.00  nan 3.00  nan  nan  nan  nan   \n2021-03-01   nan  nan  nan 1.00 1.00 2.00  nan 1.00  nan 3.00  nan  nan  nan   \n\nCohortIndex  26   27   28   29   30   31   32   33   34   35   36   37   38   \\\nStockMonth                                                                     \n2011-12-01   nan  nan  nan  nan  nan  nan  nan  nan  nan  nan  nan  nan  nan   \n2012-01-01   nan  nan  nan  nan  nan  nan  nan  nan  nan  nan  nan  nan  nan   \n2012-02-01   nan  nan  nan  nan  nan  nan  nan  nan  nan  nan  nan  nan  nan   \n2012-03-01   nan  nan  nan  nan  nan  nan  nan  nan  nan  nan  nan  nan  nan   \n2012-04-01   nan  nan  nan  nan  nan  nan  nan  nan  nan  nan  nan  nan  nan   \n...          ...  ...  ...  ...  ...  ...  ...  ...  ...  ...  ...  ...  ...   \n2020-11-01   nan  nan  nan 1.00  nan  nan  nan  nan  nan  nan 2.00  nan  nan   \n2020-12-01   nan  nan  nan  nan 1.00  nan  nan  nan  nan  nan  nan 2.00  nan   \n2021-01-01   nan  nan  nan  nan  nan 1.00  nan  nan  nan  nan  nan  nan 2.00   \n2021-02-01   nan  nan  nan  nan  nan  nan 1.00  nan  nan  nan  nan  nan  nan   \n2021-03-01   nan  nan  nan  nan  nan  nan  nan 1.00  nan  nan  nan  nan  nan   \n\nCohortIndex  39   40   41   42   43   44   45   46   47   48   49   50   51   \\\nStockMonth                                                                     \n2011-12-01   nan  nan  nan  nan  nan  nan  nan  nan  nan  nan  nan  nan  nan   \n2012-01-01   nan  nan  nan  nan  nan  nan  nan  nan  nan  nan  nan  nan  nan   \n2012-02-01   nan  nan  nan  nan  nan  nan  nan  nan  nan  nan  nan  nan  nan   \n2012-03-01   nan  nan  nan  nan  nan  nan  nan  nan  nan  nan  nan  nan  nan   \n2012-04-01   nan  nan  nan  nan  nan  nan  nan  nan  nan  nan  nan  nan  nan   \n...          ...  ...  ...  ...  ...  ...  ...  ...  ...  ...  ...  ...  ...   \n2020-11-01   nan 1.00  nan 1.00 1.00 2.00  nan  nan  nan 2.00 1.00 2.00  nan   \n2020-12-01   nan  nan 1.00  nan 1.00 1.00 2.00  nan  nan  nan 2.00 1.00 2.00   \n2021-01-01   nan  nan  nan 1.00  nan 1.00 1.00 2.00  nan  nan  nan 2.00 1.00   \n2021-02-01  2.00  nan  nan  nan 1.00  nan 1.00 1.00 2.00  nan  nan  nan 2.00   \n2021-03-01   nan 2.00  nan  nan  nan 1.00  nan 1.00 1.00 2.00  nan  nan  nan   \n\nCohortIndex  52   53   54   55   56   57   58   59   60   61   62   63   64   \\\nStockMonth                                                                     \n2011-12-01   nan  nan  nan  nan  nan  nan  nan  nan  nan  nan  nan  nan  nan   \n2012-01-01   nan  nan  nan  nan  nan  nan  nan  nan  nan  nan  nan  nan  nan   \n2012-02-01   nan  nan  nan  nan  nan  nan  nan  nan  nan  nan  nan  nan  nan   \n2012-03-01   nan  nan  nan  nan  nan  nan  nan  nan  nan  nan  nan  nan  nan   \n2012-04-01   nan  nan  nan  nan  nan  nan  nan  nan  nan  nan  nan  nan  nan   \n...          ...  ...  ...  ...  ...  ...  ...  ...  ...  ...  ...  ...  ...   \n2020-11-01   nan 2.00 1.00  nan  nan 3.00  nan  nan 3.00 1.00  nan 2.00 1.00   \n2020-12-01   nan  nan 2.00 1.00  nan  nan 3.00  nan  nan 3.00 1.00  nan 2.00   \n2021-01-01  2.00  nan  nan 2.00 1.00  nan  nan 3.00  nan  nan 2.00 1.00  nan   \n2021-02-01  1.00 2.00  nan  nan 2.00 1.00  nan  nan 3.00  nan  nan 2.00 1.00   \n2021-03-01  2.00 1.00 2.00  nan  nan 2.00 1.00  nan  nan 3.00  nan  nan 2.00   \n\nCohortIndex  65   66   67   68   69   70   71   72   73   74   75   76   77   \\\nStockMonth                                                                     \n2011-12-01   nan  nan  nan  nan  nan  nan  nan  nan  nan  nan  nan  nan  nan   \n2012-01-01   nan  nan  nan  nan  nan  nan  nan  nan  nan  nan  nan  nan  nan   \n2012-02-01   nan  nan  nan  nan  nan  nan  nan  nan  nan  nan  nan  nan  nan   \n2012-03-01   nan  nan  nan  nan  nan  nan  nan  nan  nan  nan  nan  nan  nan   \n2012-04-01   nan  nan  nan  nan  nan  nan  nan  nan  nan  nan  nan  nan  nan   \n...          ...  ...  ...  ...  ...  ...  ...  ...  ...  ...  ...  ...  ...   \n2020-11-01   nan  nan  nan 2.00 2.00  nan  nan 2.00 3.00 1.00  nan 2.00  nan   \n2020-12-01  1.00  nan  nan  nan 2.00 2.00  nan  nan 2.00 3.00 1.00  nan 2.00   \n2021-01-01  2.00 1.00  nan  nan  nan 2.00 2.00  nan  nan 2.00 3.00 1.00  nan   \n2021-02-01   nan 2.00 1.00  nan  nan  nan 2.00 2.00  nan  nan 2.00 3.00 1.00   \n2021-03-01  1.00  nan 2.00 1.00  nan  nan  nan 2.00 2.00  nan  nan 2.00 3.00   \n\nCohortIndex  78   79   80   81   82   83   84   85   86   87   88   89   90   \\\nStockMonth                                                                     \n2011-12-01   nan  nan  nan  nan  nan  nan  nan  nan  nan  nan  nan  nan  nan   \n2012-01-01   nan  nan  nan  nan  nan  nan  nan  nan  nan  nan  nan  nan  nan   \n2012-02-01   nan  nan  nan  nan  nan  nan  nan  nan  nan  nan  nan  nan  nan   \n2012-03-01   nan  nan  nan  nan  nan  nan  nan  nan  nan  nan  nan  nan  nan   \n2012-04-01   nan  nan  nan  nan  nan  nan  nan  nan  nan  nan  nan  nan  nan   \n...          ...  ...  ...  ...  ...  ...  ...  ...  ...  ...  ...  ...  ...   \n2020-11-01  1.00 2.00 1.00  nan 3.00 3.00 3.00 4.00 1.00  nan 1.00 1.00 1.00   \n2020-12-01   nan 1.00 2.00 1.00  nan 3.00 3.00 3.00 4.00 1.00  nan 1.00 1.00   \n2021-01-01  2.00  nan 1.00 2.00 1.00  nan 3.00 3.00 3.00 4.00 1.00  nan 1.00   \n2021-02-01   nan 2.00  nan 1.00 2.00 1.00  nan 3.00 3.00 3.00 4.00 1.00  nan   \n2021-03-01  1.00  nan 2.00  nan 1.00 2.00 1.00  nan 3.00 3.00 3.00 4.00 1.00   \n\nCohortIndex  91   92   93   94   95   96   97   98   99   100  101  102   103  \\\nStockMonth                                                                      \n2011-12-01   nan  nan  nan  nan  nan  nan  nan  nan  nan  nan  nan  nan   nan   \n2012-01-01   nan  nan  nan  nan  nan  nan  nan  nan  nan  nan  nan  nan   nan   \n2012-02-01   nan  nan  nan  nan  nan  nan  nan  nan  nan  nan  nan  nan   nan   \n2012-03-01   nan  nan  nan  nan  nan  nan  nan  nan  nan  nan  nan  nan   nan   \n2012-04-01   nan  nan  nan  nan  nan  nan  nan  nan  nan  nan  nan  nan   nan   \n...          ...  ...  ...  ...  ...  ...  ...  ...  ...  ...  ...  ...   ...   \n2020-11-01  1.00  nan 2.00 1.00  nan 1.00  nan 2.00 1.00  nan 2.00 4.00 31.00   \n2020-12-01  1.00 1.00  nan 2.00 1.00  nan 1.00  nan 2.00  nan  nan 3.00  4.00   \n2021-01-01  1.00 1.00 1.00  nan 2.00 1.00  nan 1.00  nan 2.00  nan  nan  3.00   \n2021-02-01  1.00 1.00 1.00 1.00  nan 2.00 1.00  nan 1.00  nan 2.00  nan   nan   \n2021-03-01   nan 1.00 1.00 1.00 1.00  nan 2.00 1.00  nan 1.00  nan 2.00   nan   \n\nCohortIndex   104   105   106   107   108   109   110   111   112  \nStockMonth                                                         \n2011-12-01    nan   nan   nan   nan   nan   nan   nan   nan   nan  \n2012-01-01    nan   nan   nan   nan   nan   nan   nan   nan   nan  \n2012-02-01    nan   nan   nan   nan   nan   nan   nan   nan   nan  \n2012-03-01    nan   nan   nan   nan   nan   nan   nan   nan   nan  \n2012-04-01    nan   nan   nan   nan   nan   nan   nan   nan   nan  \n...           ...   ...   ...   ...   ...   ...   ...   ...   ...  \n2020-11-01  55.00 49.00  9.00 26.00 31.00   nan   nan   nan   nan  \n2020-12-01  31.00 55.00 49.00  9.00 26.00 31.00   nan   nan   nan  \n2021-01-01   4.00 31.00 55.00 49.00  9.00 26.00 31.00   nan   nan  \n2021-02-01   2.00  4.00 30.00 55.00 49.00  9.00 26.00 31.00   nan  \n2021-03-01    nan  3.00  4.00 30.00 55.00 49.00  9.00 26.00 31.00  \n\n[112 rows x 112 columns]\n"
     ]
    }
   ],
   "source": [
    "grouping = df.groupby(['StockMonth', 'CohortIndex'])\n",
    "cohort_data = grouping['Code'].apply(pd.Series.nunique)\n",
    "\n",
    "#return number of unique vals\n",
    "cohort_data = cohort_data.reset_index()\n",
    "cohort_counts = cohort_data.pivot(index='StockMonth', columns='CohortIndex', values='Code')\n",
    "print(cohort_counts)"
   ]
  },
  {
   "cell_type": "code",
   "execution_count": null,
   "metadata": {},
   "outputs": [],
   "source": []
  }
 ]
}