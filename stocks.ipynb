{
 "metadata": {
  "language_info": {
   "codemirror_mode": {
    "name": "ipython",
    "version": 3
   },
   "file_extension": ".py",
   "mimetype": "text/x-python",
   "name": "python",
   "nbconvert_exporter": "python",
   "pygments_lexer": "ipython3",
   "version": "3.8.2-final"
  },
  "orig_nbformat": 2,
  "kernelspec": {
   "name": "python3",
   "display_name": "Python 3.8.2 32-bit",
   "metadata": {
    "interpreter": {
     "hash": "2c9f59526c032d06429de540675487e911bf69c7a10b3b3b86e915eee204f9ed"
    }
   }
  }
 },
 "nbformat": 4,
 "nbformat_minor": 2,
 "cells": [
  {
   "cell_type": "code",
   "execution_count": 1,
   "metadata": {},
   "outputs": [
    {
     "output_type": "stream",
     "name": "stdout",
     "text": [
      "                             Stock Name   Code       Date  Price  Open  High  \\\n0       Abra Mining and Industrial Corp     AR   3-Mar-21      0     0     0   \n1       Abra Mining and Industrial Corp     AR   2-Mar-21      0     0     0   \n2       Abra Mining and Industrial Corp     AR   1-Mar-21      0     0     0   \n3       Abra Mining and Industrial Corp     AR  26-Feb-21      0     0     0   \n4       Abra Mining and Industrial Corp     AR  24-Feb-21      0     0     0   \n...                                 ...    ...        ...    ...   ...   ...   \n481915                Ayala Corp Pref B  ACPB2  14-Nov-14    503   504   504   \n481916                Ayala Corp Pref B  ACPB2  12-Nov-14    508   508   508   \n481917                Ayala Corp Pref B  ACPB2  11-Nov-14    514   509   515   \n481918                Ayala Corp Pref B  ACPB2  10-Nov-14    509   509   509   \n481919                Ayala Corp Pref B  ACPB2   7-Nov-14    511   512   512   \n\n        Low   Volume  Change%  \n0         0  215.45B  -14.81%  \n1         0  122.74B   50.00%  \n2         0    5.89B    5.88%  \n3         0    9.59B    0.00%  \n4         0   29.68B  -12.82%  \n...     ...      ...      ...  \n481915  503    0.57K   -0.98%  \n481916  508    0.10K   -1.17%  \n481917  507    5.50K    0.98%  \n481918  509    0.01K   -0.39%  \n481919  511    0.06K    2.20%  \n\n[481920 rows x 9 columns]\n"
     ]
    }
   ],
   "source": [
    "import pandas as pd\n",
    "import seaborn as sns \n",
    "from pandas import DataFrame\n",
    "import matplotlib.pyplot as plt\n",
    "import plotly.express as px\n",
    "import plotly.graph_objects as go\n",
    "from sklearn.preprocessing import LabelEncoder\n",
    "import numpy as np\n",
    "import plotly\n",
    "import statistics\n",
    "import plotly.express as px\n",
    "import stats\n",
    "import matplotlib.pyplot as plt \n",
    "from sklearn.model_selection import train_test_split\n",
    "from sklearn.ensemble import RandomForestRegressor\n",
    "from sklearn.metrics import r2_score\n",
    "import plotly.express as px\n",
    "import datetime\n",
    "import datetime as dt\n",
    "import time\n",
    "\n",
    "\n",
    "# Supress Scientific notation in python\n",
    "pd.set_option('display.float_format', lambda x: '%.2f' % x)\n",
    "\n",
    "# Display all columns of long dataframe\n",
    "pd.set_option('display.max_columns', None)\n",
    "\n",
    "#data from Kaggle.com\n",
    "#open file\n",
    "stocks='stocks.csv'\n",
    "df=pd.read_csv(stocks)\n",
    "print(df)"
   ]
  },
  {
   "cell_type": "code",
   "execution_count": 2,
   "metadata": {},
   "outputs": [
    {
     "output_type": "stream",
     "name": "stdout",
     "text": [
      "                             Stock Name   Code       Date  Price  Open  High  \\\n0       Abra Mining and Industrial Corp     AR 2021-03-03      0     0     0   \n1       Abra Mining and Industrial Corp     AR 2021-03-02      0     0     0   \n2       Abra Mining and Industrial Corp     AR 2021-03-01      0     0     0   \n3       Abra Mining and Industrial Corp     AR 2021-02-26      0     0     0   \n4       Abra Mining and Industrial Corp     AR 2021-02-24      0     0     0   \n...                                 ...    ...        ...    ...   ...   ...   \n481915                Ayala Corp Pref B  ACPB2 2014-11-14    503   504   504   \n481916                Ayala Corp Pref B  ACPB2 2014-11-12    508   508   508   \n481917                Ayala Corp Pref B  ACPB2 2014-11-11    514   509   515   \n481918                Ayala Corp Pref B  ACPB2 2014-11-10    509   509   509   \n481919                Ayala Corp Pref B  ACPB2 2014-11-07    511   512   512   \n\n        Low   Volume  Change%  Year     Month        Day  \n0         0  215.45B  -14.81%  2021     March  Wednesday  \n1         0  122.74B   50.00%  2021     March    Tuesday  \n2         0    5.89B    5.88%  2021     March     Monday  \n3         0    9.59B    0.00%  2021  February     Friday  \n4         0   29.68B  -12.82%  2021  February  Wednesday  \n...     ...      ...      ...   ...       ...        ...  \n481915  503    0.57K   -0.98%  2014  November     Friday  \n481916  508    0.10K   -1.17%  2014  November  Wednesday  \n481917  507    5.50K    0.98%  2014  November    Tuesday  \n481918  509    0.01K   -0.39%  2014  November     Monday  \n481919  511    0.06K    2.20%  2014  November     Friday  \n\n[481920 rows x 12 columns]\n"
     ]
    }
   ],
   "source": [
    "#parse index\n",
    "df['Date']=pd.to_datetime(df['Date'], infer_datetime_format=True)\n",
    "indexeddf=df.set_index(['Date'])\n",
    "#print(indexeddf)\n",
    "\n",
    "#parsing to time format and extracting dates \n",
    "x=df['Date']=pd.to_datetime(df['Date'], format='%d-%m-%y')\n",
    "\n",
    "Day=df['Date'].dt.day_name()\n",
    "Month=df['Date'].dt.month_name()\n",
    "Year=df['Date'].dt.year\n",
    "\n",
    "df['Year']=df['Date'].dt.year\n",
    "df['Month']=df['Date'].dt.month_name()\n",
    "df['Day']=df['Date'].dt.day_name()\n",
    "print(df)"
   ]
  },
  {
   "cell_type": "code",
   "execution_count": 7,
   "metadata": {},
   "outputs": [],
   "source": [
    "# Read the file into a variable flight_data\n",
    "stock_data = pd.read_csv(stocks, index_col=\"Date\")"
   ]
  },
  {
   "cell_type": "code",
   "execution_count": 8,
   "metadata": {},
   "outputs": [
    {
     "output_type": "execute_result",
     "data": {
      "text/plain": [
       "                                Stock Name   Code  Price  Open  High  Low  \\\n",
       "Date                                                                        \n",
       "3-Mar-21   Abra Mining and Industrial Corp     AR      0     0     0    0   \n",
       "2-Mar-21   Abra Mining and Industrial Corp     AR      0     0     0    0   \n",
       "1-Mar-21   Abra Mining and Industrial Corp     AR      0     0     0    0   \n",
       "26-Feb-21  Abra Mining and Industrial Corp     AR      0     0     0    0   \n",
       "24-Feb-21  Abra Mining and Industrial Corp     AR      0     0     0    0   \n",
       "...                                    ...    ...    ...   ...   ...  ...   \n",
       "14-Nov-14                Ayala Corp Pref B  ACPB2    503   504   504  503   \n",
       "12-Nov-14                Ayala Corp Pref B  ACPB2    508   508   508  508   \n",
       "11-Nov-14                Ayala Corp Pref B  ACPB2    514   509   515  507   \n",
       "10-Nov-14                Ayala Corp Pref B  ACPB2    509   509   509  509   \n",
       "7-Nov-14                 Ayala Corp Pref B  ACPB2    511   512   512  511   \n",
       "\n",
       "            Volume  Change%  \n",
       "Date                         \n",
       "3-Mar-21   215.45B  -14.81%  \n",
       "2-Mar-21   122.74B   50.00%  \n",
       "1-Mar-21     5.89B    5.88%  \n",
       "26-Feb-21    9.59B    0.00%  \n",
       "24-Feb-21   29.68B  -12.82%  \n",
       "...            ...      ...  \n",
       "14-Nov-14    0.57K   -0.98%  \n",
       "12-Nov-14    0.10K   -1.17%  \n",
       "11-Nov-14    5.50K    0.98%  \n",
       "10-Nov-14    0.01K   -0.39%  \n",
       "7-Nov-14     0.06K    2.20%  \n",
       "\n",
       "[481920 rows x 8 columns]"
      ],
      "text/html": "<div>\n<style scoped>\n    .dataframe tbody tr th:only-of-type {\n        vertical-align: middle;\n    }\n\n    .dataframe tbody tr th {\n        vertical-align: top;\n    }\n\n    .dataframe thead th {\n        text-align: right;\n    }\n</style>\n<table border=\"1\" class=\"dataframe\">\n  <thead>\n    <tr style=\"text-align: right;\">\n      <th></th>\n      <th>Stock Name</th>\n      <th>Code</th>\n      <th>Price</th>\n      <th>Open</th>\n      <th>High</th>\n      <th>Low</th>\n      <th>Volume</th>\n      <th>Change%</th>\n    </tr>\n    <tr>\n      <th>Date</th>\n      <th></th>\n      <th></th>\n      <th></th>\n      <th></th>\n      <th></th>\n      <th></th>\n      <th></th>\n      <th></th>\n    </tr>\n  </thead>\n  <tbody>\n    <tr>\n      <th>3-Mar-21</th>\n      <td>Abra Mining and Industrial Corp</td>\n      <td>AR</td>\n      <td>0</td>\n      <td>0</td>\n      <td>0</td>\n      <td>0</td>\n      <td>215.45B</td>\n      <td>-14.81%</td>\n    </tr>\n    <tr>\n      <th>2-Mar-21</th>\n      <td>Abra Mining and Industrial Corp</td>\n      <td>AR</td>\n      <td>0</td>\n      <td>0</td>\n      <td>0</td>\n      <td>0</td>\n      <td>122.74B</td>\n      <td>50.00%</td>\n    </tr>\n    <tr>\n      <th>1-Mar-21</th>\n      <td>Abra Mining and Industrial Corp</td>\n      <td>AR</td>\n      <td>0</td>\n      <td>0</td>\n      <td>0</td>\n      <td>0</td>\n      <td>5.89B</td>\n      <td>5.88%</td>\n    </tr>\n    <tr>\n      <th>26-Feb-21</th>\n      <td>Abra Mining and Industrial Corp</td>\n      <td>AR</td>\n      <td>0</td>\n      <td>0</td>\n      <td>0</td>\n      <td>0</td>\n      <td>9.59B</td>\n      <td>0.00%</td>\n    </tr>\n    <tr>\n      <th>24-Feb-21</th>\n      <td>Abra Mining and Industrial Corp</td>\n      <td>AR</td>\n      <td>0</td>\n      <td>0</td>\n      <td>0</td>\n      <td>0</td>\n      <td>29.68B</td>\n      <td>-12.82%</td>\n    </tr>\n    <tr>\n      <th>...</th>\n      <td>...</td>\n      <td>...</td>\n      <td>...</td>\n      <td>...</td>\n      <td>...</td>\n      <td>...</td>\n      <td>...</td>\n      <td>...</td>\n    </tr>\n    <tr>\n      <th>14-Nov-14</th>\n      <td>Ayala Corp Pref B</td>\n      <td>ACPB2</td>\n      <td>503</td>\n      <td>504</td>\n      <td>504</td>\n      <td>503</td>\n      <td>0.57K</td>\n      <td>-0.98%</td>\n    </tr>\n    <tr>\n      <th>12-Nov-14</th>\n      <td>Ayala Corp Pref B</td>\n      <td>ACPB2</td>\n      <td>508</td>\n      <td>508</td>\n      <td>508</td>\n      <td>508</td>\n      <td>0.10K</td>\n      <td>-1.17%</td>\n    </tr>\n    <tr>\n      <th>11-Nov-14</th>\n      <td>Ayala Corp Pref B</td>\n      <td>ACPB2</td>\n      <td>514</td>\n      <td>509</td>\n      <td>515</td>\n      <td>507</td>\n      <td>5.50K</td>\n      <td>0.98%</td>\n    </tr>\n    <tr>\n      <th>10-Nov-14</th>\n      <td>Ayala Corp Pref B</td>\n      <td>ACPB2</td>\n      <td>509</td>\n      <td>509</td>\n      <td>509</td>\n      <td>509</td>\n      <td>0.01K</td>\n      <td>-0.39%</td>\n    </tr>\n    <tr>\n      <th>7-Nov-14</th>\n      <td>Ayala Corp Pref B</td>\n      <td>ACPB2</td>\n      <td>511</td>\n      <td>512</td>\n      <td>512</td>\n      <td>511</td>\n      <td>0.06K</td>\n      <td>2.20%</td>\n    </tr>\n  </tbody>\n</table>\n<p>481920 rows × 8 columns</p>\n</div>"
     },
     "metadata": {},
     "execution_count": 8
    }
   ],
   "source": [
    "stock_data"
   ]
  },
  {
   "cell_type": "code",
   "execution_count": null,
   "metadata": {},
   "outputs": [],
   "source": []
  }
 ]
}