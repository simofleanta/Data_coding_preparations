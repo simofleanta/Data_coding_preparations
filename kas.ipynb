{
 "metadata": {
  "language_info": {
   "codemirror_mode": {
    "name": "ipython",
    "version": 3
   },
   "file_extension": ".py",
   "mimetype": "text/x-python",
   "name": "python",
   "nbconvert_exporter": "python",
   "pygments_lexer": "ipython3",
   "version": "3.8.2-final"
  },
  "orig_nbformat": 2,
  "kernelspec": {
   "name": "python3",
   "display_name": "Python 3.8.2 32-bit",
   "metadata": {
    "interpreter": {
     "hash": "2c9f59526c032d06429de540675487e911bf69c7a10b3b3b86e915eee204f9ed"
    }
   }
  }
 },
 "nbformat": 4,
 "nbformat_minor": 2,
 "cells": [
  {
   "cell_type": "code",
   "execution_count": 1,
   "metadata": {},
   "outputs": [],
   "source": [
    "import pandas as pd\n",
    "import seaborn as sns \n",
    "from pandas import DataFrame\n",
    "import matplotlib.pyplot as plt\n",
    "import plotly.express as px\n",
    "import plotly.graph_objects as go\n",
    "from sklearn.preprocessing import LabelEncoder\n",
    "import numpy as np\n",
    "import plotly\n",
    "import statistics\n",
    "import plotly.express as px\n",
    "import stats\n",
    "import matplotlib.pyplot as plt \n",
    "from sklearn.model_selection import train_test_split\n",
    "from sklearn.ensemble import RandomForestRegressor\n",
    "from sklearn.metrics import r2_score\n",
    "import plotly.express as px\n",
    "import datetime\n"
   ]
  },
  {
   "cell_type": "code",
   "execution_count": 2,
   "metadata": {},
   "outputs": [
    {
     "output_type": "stream",
     "name": "stdout",
     "text": [
      "Index(['Date', 'County', 'Pib', 'Nrfirme', 'AvgSalariatiPers',\n       'BiblioteciTotal', 'PersonalAngajatInBiblioteci',\n       'CitioriActiviInBiblioteci', 'Cinematografe', 'Locuriincinematografe',\n       'SpectatorilaReprezentatii ', 'MuzeeSiColectii ', 'SportiviLegitimati',\n       'ValoareSalariuMediu', 'ValoareSalariu   '],\n      dtype='object')\n          Date  County      Pib  Nrfirme  AvgSalariatiPers  BiblioteciTotal  \\\n0   2007-12-30  Brasov    13946    19143            163788              227   \n1   2008-12-30  Brasov    16857    20287            169429              216   \n2   2009-12-30  Brasov    17560    19626            150855              231   \n3   2010-12-30  Brasov    17586    17617            145465              218   \n4   2011-12-30  Brasov    17674    16209            145274              202   \n..         ...     ...      ...      ...               ...              ...   \n68  2014-12-30   Ilfov  16957,2    17490            108343              112   \n69  2015-12-30   Ilfov  17181,5    19363            116023              105   \n70  2016-12-30   Ilfov  19132,2    21001            128107              100   \n71  2017-12-30   Ilfov  20501,6    23356            137941              101   \n72  2018-12-30   Ilfov        0        0            167718               99   \n\n    PersonalAngajatInBiblioteci  CitioriActiviInBiblioteci  Cinematografe  \\\n0                             0                     149621              2   \n1                             0                     138696              2   \n2                             0                     137050              2   \n3                             0                     124061              2   \n4                           191                     102950              1   \n..                          ...                        ...            ...   \n68                           49                      24122              0   \n69                          667                      22901              0   \n70                          723                      22763              0   \n71                          758                      23578              0   \n72                          813                      22555              0   \n\n    Locuriincinematografe  SpectatorilaReprezentatii   MuzeeSiColectii   \\\n0                     423                       84416              5527   \n1                     423                      112877              8187   \n2                     423                      136824              8286   \n3                     343                      120247              8598   \n4                     243                      125827              8693   \n..                    ...                         ...               ...   \n68                      0                       37820              3978   \n69                      0                       37820              4520   \n70                      0                       52800              4948   \n71                      0                       47700              6078   \n72                      0                       26400                 0   \n\n    SportiviLegitimati  ValoareSalariuMediu  ValoareSalariu     \n0                   20                 1320                984  \n1                   20                 1639               1226  \n2                   21                 1788               1323  \n3                   22                 1777               1304  \n4                   22                 1898               1385  \n..                 ...                  ...                ...  \n68                   7                 2874               2087  \n69                   7                 3134               2267  \n70                   7                 3275               2380  \n71                   7                 3602               2610  \n72                   0                 4765               2871  \n\n[73 rows x 15 columns]\n"
     ]
    }
   ],
   "source": [
    "#open file\n",
    "\n",
    "k=pd.read_csv('kasall.csv')\n",
    "print(k.columns)\n",
    "kas=DataFrame(k.head(80))\n",
    "print(kas.head(80))"
   ]
  },
  {
   "source": [
    "Parse timeseries "
   ],
   "cell_type": "markdown",
   "metadata": {}
  },
  {
   "cell_type": "code",
   "execution_count": 4,
   "metadata": {},
   "outputs": [],
   "source": [
    "kas['Date']=pd.to_datetime(kas['Date'], infer_datetime_format=True)\n",
    "indexeddf=kas.set_index(['Date'])\n"
   ]
  },
  {
   "source": [
    "Parsing to time format and extracting dates with 'Date'"
   ],
   "cell_type": "markdown",
   "metadata": {}
  },
  {
   "cell_type": "code",
   "execution_count": 5,
   "metadata": {},
   "outputs": [
    {
     "output_type": "stream",
     "name": "stdout",
     "text": [
      "0        Sunday\n1       Tuesday\n2     Wednesday\n3      Thursday\n4        Friday\n        ...    \n68      Tuesday\n69    Wednesday\n70       Friday\n71     Saturday\n72       Sunday\nName: Date, Length: 73, dtype: object\n0     December\n1     December\n2     December\n3     December\n4     December\n        ...   \n68    December\n69    December\n70    December\n71    December\n72    December\nName: Date, Length: 73, dtype: object\n0     2007\n1     2008\n2     2009\n3     2010\n4     2011\n      ... \n68    2014\n69    2015\n70    2016\n71    2017\n72    2018\nName: Date, Length: 73, dtype: int64\n"
     ]
    }
   ],
   "source": [
    "x=kas['Date']=pd.to_datetime(kas['Date'], format='%y-%m-%d')\n",
    "\n",
    "Day=kas['Date'].dt.day_name()\n",
    "print(Day)\n",
    "\n",
    "Month=kas['Date'].dt.month_name()\n",
    "print(Month)\n",
    "\n",
    "Year=kas['Date'].dt.year\n",
    "print(Year)"
   ]
  },
  {
   "source": [
    "Subset time series"
   ],
   "cell_type": "markdown",
   "metadata": {}
  },
  {
   "cell_type": "code",
   "execution_count": 6,
   "metadata": {},
   "outputs": [
    {
     "output_type": "stream",
     "name": "stdout",
     "text": [
      "         Date  County      Pib  Nrfirme  AvgSalariatiPers  BiblioteciTotal  \\\n0  2007-12-30  Brasov    13946    19143            163788              227   \n1  2008-12-30  Brasov    16857    20287            169429              216   \n2  2009-12-30  Brasov    17560    19626            150855              231   \n3  2010-12-30  Brasov    17586    17617            145465              218   \n4  2011-12-30  Brasov    17674    16209            145274              202   \n..        ...     ...      ...      ...               ...              ...   \n68 2014-12-30   Ilfov  16957,2    17490            108343              112   \n69 2015-12-30   Ilfov  17181,5    19363            116023              105   \n70 2016-12-30   Ilfov  19132,2    21001            128107              100   \n71 2017-12-30   Ilfov  20501,6    23356            137941              101   \n72 2018-12-30   Ilfov        0        0            167718               99   \n\n    PersonalAngajatInBiblioteci  CitioriActiviInBiblioteci  Cinematografe  \\\n0                             0                     149621              2   \n1                             0                     138696              2   \n2                             0                     137050              2   \n3                             0                     124061              2   \n4                           191                     102950              1   \n..                          ...                        ...            ...   \n68                           49                      24122              0   \n69                          667                      22901              0   \n70                          723                      22763              0   \n71                          758                      23578              0   \n72                          813                      22555              0   \n\n    Locuriincinematografe  SpectatorilaReprezentatii   MuzeeSiColectii   \\\n0                     423                       84416              5527   \n1                     423                      112877              8187   \n2                     423                      136824              8286   \n3                     343                      120247              8598   \n4                     243                      125827              8693   \n..                    ...                         ...               ...   \n68                      0                       37820              3978   \n69                      0                       37820              4520   \n70                      0                       52800              4948   \n71                      0                       47700              6078   \n72                      0                       26400                 0   \n\n    SportiviLegitimati  ValoareSalariuMediu  ValoareSalariu     Year  \\\n0                   20                 1320                984  2007   \n1                   20                 1639               1226  2008   \n2                   21                 1788               1323  2009   \n3                   22                 1777               1304  2010   \n4                   22                 1898               1385  2011   \n..                 ...                  ...                ...   ...   \n68                   7                 2874               2087  2014   \n69                   7                 3134               2267  2015   \n70                   7                 3275               2380  2016   \n71                   7                 3602               2610  2017   \n72                   0                 4765               2871  2018   \n\n       Month        Day  \n0   December     Sunday  \n1   December    Tuesday  \n2   December  Wednesday  \n3   December   Thursday  \n4   December     Friday  \n..       ...        ...  \n68  December    Tuesday  \n69  December  Wednesday  \n70  December     Friday  \n71  December   Saturday  \n72  December     Sunday  \n\n[73 rows x 18 columns]\n"
     ]
    }
   ],
   "source": [
    "kas['Year']=kas['Date'].dt.year\n",
    "kas['Month']=kas['Date'].dt.month_name()\n",
    "kas['Day']=kas['Date'].dt.day_name()\n",
    "print(kas.head(80))"
   ]
  },
  {
   "source": [
    "Normalize data"
   ],
   "cell_type": "markdown",
   "metadata": {}
  },
  {
   "cell_type": "code",
   "execution_count": null,
   "metadata": {},
   "outputs": [],
   "source": []
  }
 ]
}