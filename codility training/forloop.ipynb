{
 "metadata": {
  "language_info": {
   "codemirror_mode": {
    "name": "ipython",
    "version": 3
   },
   "file_extension": ".py",
   "mimetype": "text/x-python",
   "name": "python",
   "nbconvert_exporter": "python",
   "pygments_lexer": "ipython3",
   "version": "3.8.2-final"
  },
  "orig_nbformat": 2,
  "kernelspec": {
   "name": "python3",
   "display_name": "Python 3.8.2 32-bit",
   "metadata": {
    "interpreter": {
     "hash": "2c9f59526c032d06429de540675487e911bf69c7a10b3b3b86e915eee204f9ed"
    }
   }
  }
 },
 "nbformat": 4,
 "nbformat_minor": 2,
 "cells": [
  {
   "cell_type": "code",
   "execution_count": 134,
   "metadata": {},
   "outputs": [
    {
     "output_type": "stream",
     "name": "stdout",
     "text": [
      "\n\n\n\n\n*****\n\n\n\n\n****\n\n\n\n\n***\n\n\n\n\n**\n\n\n\n\n*\n\n\n\n\n"
     ]
    },
    {
     "output_type": "execute_result",
     "data": {
      "text/plain": [
       "<function print>"
      ]
     },
     "metadata": {},
     "execution_count": 134
    }
   ],
   "source": [
    "#vice-versa tree\n",
    "#i=interval dintre 4,0,-1 deci 5 si -1=> range intre 5 si -1 =>7 cifre \n",
    "#J=4-1=3\n",
    "# same j row= 7-1\n",
    "n=6\n",
    "for i in range(n,0, -1):\n",
    "    for j in range(n-1):\n",
    "        print(''),\n",
    "    for j in range(i-1):\n",
    "        print(end='*')\n",
    "print"
   ]
  },
  {
   "cell_type": "code",
   "execution_count": 181,
   "metadata": {},
   "outputs": [
    {
     "output_type": "stream",
     "name": "stdout",
     "text": [
      "\n\n\n*\n\n\n**\n\n\n\n***"
     ]
    },
    {
     "output_type": "execute_result",
     "data": {
      "text/plain": [
       "<function print>"
      ]
     },
     "metadata": {},
     "execution_count": 181
    }
   ],
   "source": [
    "\n",
    "n=4\n",
    "for i in range(1, n+1):\n",
    "    for j in range(i):\n",
    "        print('')\n",
    "    for j in range(i-1):\n",
    "        print(end='*')\n",
    "\n",
    "print"
   ]
  },
  {
   "cell_type": "code",
   "execution_count": 184,
   "metadata": {},
   "outputs": [
    {
     "output_type": "stream",
     "name": "stdout",
     "text": [
      "\n\n\n\n\n*\n\n\n\n**\n\n\n\n\n***\n\n\n\n\n\n****\n\n\n\n\n\n\n*****"
     ]
    },
    {
     "output_type": "execute_result",
     "data": {
      "text/plain": [
       "<function print>"
      ]
     },
     "metadata": {},
     "execution_count": 184
    }
   ],
   "source": [
    "#peek tree\n",
    "n=6\n",
    "for i in range(3, (n+3)):\n",
    "    for j in range(i-1):\n",
    "        print('')\n",
    "    for j in range(i-1-2):\n",
    "        print(end='*')\n",
    "print"
   ]
  },
  {
   "cell_type": "code",
   "execution_count": 2,
   "metadata": {},
   "outputs": [
    {
     "output_type": "stream",
     "name": "stdout",
     "text": [
      "Monday\nThursday\nTuesday\n"
     ]
    }
   ],
   "source": [
    "days=set(['Monday','Tuesday','Thursday']) #set=wird order \n",
    "for day in days:\n",
    "    print(day)\n"
   ]
  },
  {
   "cell_type": "code",
   "execution_count": 4,
   "metadata": {},
   "outputs": [
    {
     "output_type": "stream",
     "name": "stdout",
     "text": [
      "Monday\nTuesday\nThursday\n"
     ]
    }
   ],
   "source": [
    "days=['Monday','Tuesday','Thursday'] #list=right order \n",
    "for day in days:\n",
    "    print(day)\n"
   ]
  },
  {
   "cell_type": "code",
   "execution_count": null,
   "metadata": {},
   "outputs": [],
   "source": []
  },
  {
   "cell_type": "code",
   "execution_count": 3,
   "metadata": {},
   "outputs": [
    {
     "output_type": "stream",
     "name": "stdout",
     "text": [
      "Mon Stands for Monday\nTue Stands for Tuesday\nWed Stands for Wednesday\n"
     ]
    }
   ],
   "source": [
    "days={'Mon':'Monday','Tue':'Tuesday','Wed':'Wednesday'}\n",
    "\n",
    "for day_dic in days:\n",
    "    print(day_dic,'Stands for', days[day_dic])"
   ]
  },
  {
   "cell_type": "code",
   "execution_count": null,
   "metadata": {},
   "outputs": [],
   "source": []
  }
 ]
}