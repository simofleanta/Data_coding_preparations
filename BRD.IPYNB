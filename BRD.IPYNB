{
 "metadata": {
  "language_info": {
   "codemirror_mode": {
    "name": "ipython",
    "version": 3
   },
   "file_extension": ".py",
   "mimetype": "text/x-python",
   "name": "python",
   "nbconvert_exporter": "python",
   "pygments_lexer": "ipython3",
   "version": "3.8.2-final"
  },
  "orig_nbformat": 2,
  "kernelspec": {
   "name": "python3",
   "display_name": "Python 3.8.2 32-bit",
   "metadata": {
    "interpreter": {
     "hash": "2c9f59526c032d06429de540675487e911bf69c7a10b3b3b86e915eee204f9ed"
    }
   }
  }
 },
 "nbformat": 4,
 "nbformat_minor": 2,
 "cells": [
  {
   "cell_type": "code",
   "execution_count": 200,
   "metadata": {},
   "outputs": [],
   "source": [
    "\n",
    "import pandas as pd\n",
    "import seaborn as sns \n",
    "from pandas import DataFrame\n",
    "import matplotlib.pyplot as plt\n",
    "import plotly.express as px\n",
    "import plotly.graph_objects as go\n",
    "from sklearn.preprocessing import LabelEncoder\n",
    "import numpy as np\n",
    "import plotly\n",
    "import statistics\n",
    "import plotly.express as px\n",
    "import stats\n",
    "import matplotlib.pyplot as plt \n",
    "from sklearn.model_selection import train_test_split\n",
    "from sklearn.ensemble import RandomForestRegressor\n",
    "from sklearn.cluster import KMeans\n",
    "from sklearn.metrics import r2_score\n",
    "import plotly.express as px\n",
    "import datetime\n",
    "import datetime as dt\n",
    "import time\n",
    "\n",
    "cmap = sns.diverging_palette(220, 15, as_cmap=True)\n",
    "\n",
    "\n",
    "# Supress Scientific notation in python\n",
    "pd.set_option('display.float_format', lambda x: '%.2f' % x)\n",
    "\n",
    "# Display all columns of long dataframe\n",
    "pd.set_option('display.max_columns', None)\n"
   ]
  },
  {
   "source": [
    "# Load data"
   ],
   "cell_type": "markdown",
   "metadata": {}
  },
  {
   "cell_type": "code",
   "execution_count": 201,
   "metadata": {},
   "outputs": [
    {
     "output_type": "stream",
     "name": "stdout",
     "text": [
      "   Euro_value      Date    Turnover_ron   Turnover_euro   Max_ron  Max_euro\n0        4.23  1/1/2019   12,188,487.90    2,881,439.22     13.12      3.10\n1         nan  1/2/2019   12,188,487.90    2,881,439.22     13.12      3.10\n2         nan  1/3/2019      902,942.50      213,461.58     13.36      3.16\n"
     ]
    }
   ],
   "source": [
    "#open file\n",
    "brd='BRD.csv'\n",
    "df=pd.read_csv(brd)\n",
    "print(df.head(3))"
   ]
  },
  {
   "source": [
    "# remove euro col"
   ],
   "cell_type": "markdown",
   "metadata": {}
  },
  {
   "source": [
    "In 2019 euro was 4.23."
   ],
   "cell_type": "markdown",
   "metadata": {}
  },
  {
   "cell_type": "code",
   "execution_count": 202,
   "metadata": {},
   "outputs": [
    {
     "output_type": "stream",
     "name": "stdout",
     "text": [
      "       Date    Turnover_ron   Turnover_euro   Max_ron  Max_euro\n0  1/1/2019   12,188,487.90    2,881,439.22     13.12      3.10\n1  1/2/2019   12,188,487.90    2,881,439.22     13.12      3.10\n2  1/3/2019      902,942.50      213,461.58     13.36      3.16\n"
     ]
    }
   ],
   "source": [
    "df=df.drop('Euro_value', axis='columns')\n",
    "print(df.head(3))"
   ]
  },
  {
   "source": [
    "# Parse date time series"
   ],
   "cell_type": "markdown",
   "metadata": {}
  },
  {
   "cell_type": "code",
   "execution_count": 203,
   "metadata": {},
   "outputs": [],
   "source": [
    "#parse index\n",
    "df['Date']=pd.to_datetime(df['Date'], infer_datetime_format=True)\n",
    "indexeddf=df.set_index(['Date'])\n",
    "#print(indexeddf)\n",
    "\n",
    "#parsing to time format and extracting dates \n",
    "x=df['Date']=pd.to_datetime(df['Date'], format='%d-%m-%y')\n",
    "\n",
    "Day=df['Date'].dt.day_name()\n",
    "Month=df['Date'].dt.month_name()\n",
    "Year=df['Date'].dt.year\n",
    "\n",
    "#subset\n",
    "df['Year']=df['Date'].dt.year\n",
    "df['Month']=df['Date'].dt.month\n",
    "df['Day']=df['Date'].dt.day\n",
    "#print(df)\n"
   ]
  },
  {
   "source": [
    "# passing the variables"
   ],
   "cell_type": "markdown",
   "metadata": {}
  },
  {
   "cell_type": "code",
   "execution_count": 296,
   "metadata": {},
   "outputs": [],
   "source": [
    "shares_out=696901518\n",
    "BRD_FreeFloat=0.3\n",
    "\n",
    "#number of days for each month\n",
    "Jan_days=19\n",
    "Feb_days=20\n",
    "March_days=22\n",
    "April_days=19\n",
    "May_days=21\n",
    "June_days=20\n",
    "Jul_days=22\n",
    "Aug_days=22\n",
    "Sep_days=21\n",
    "Oct_days=23\n",
    "Nov_days=21\n",
    "Dec_days=19\n",
    "\n",
    "#last prices in months\n",
    "\n",
    "last_jan=3.21\n",
    "last_feb=3.33\n",
    "last_mar=3.57\n",
    "last_apr=3.66\n",
    "last_may=2.96\n",
    "last_jun=3.10\n",
    "last_jul=3.38\n",
    "last_aug=3.36\n",
    "last_sep=3.22\n",
    "last_oct=3.12\n",
    "last_nov=3.32\n",
    "last_dec=2.72"
   ]
  },
  {
   "source": [
    "# Formulae"
   ],
   "cell_type": "markdown",
   "metadata": {}
  },
  {
   "source": [
    "#FF Market Cap == calculeaza folosind ultimul pret din luna respectiva in USD * Numarul de actiuni * 0.3 (FF) FAZA 1                    \n",
    "#Median Traded Value == mediana valorilor tranzactionate dintr-o luna.FAZA 2                                                     \n",
    "#Monthly Median Traded Value == Median Traded Value (USD) * numarul de zile tranzactionate din luna respective FAZA3               \n",
    "#MTVR == Monthly Median Traded Value / FF Market Cap FAZA 4"
   ],
   "cell_type": "markdown",
   "metadata": {}
  },
  {
   "source": [
    "# FF Market Cap for each month"
   ],
   "cell_type": "markdown",
   "metadata": {}
  },
  {
   "cell_type": "code",
   "execution_count": 313,
   "metadata": {},
   "outputs": [],
   "source": [
    "FF_Mkt_Cap=round(last_jan*shares_out*BRD_FreeFloat)\n",
    "FF_Mkt_Cap_2=round(last_feb*shares_out*BRD_FreeFloat)\n",
    "FF_Mkt_Cap_3=round(last_mar*shares_out*BRD_FreeFloat)\n",
    "FF_Mkt_Cap_4=round(last_apr*shares_out*BRD_FreeFloat)\n",
    "FF_Mkt_Cap_5=round(last_may*shares_out*BRD_FreeFloat)\n",
    "FF_Mkt_Cap_6=round(last_jun*shares_out*BRD_FreeFloat)\n",
    "FF_Mkt_Cap_7=round(last_jul*shares_out*BRD_FreeFloat)\n",
    "FF_Mkt_Cap_8=round(last_aug*shares_out*BRD_FreeFloat)\n",
    "FF_Mkt_Cap_9=round(last_sep*shares_out*BRD_FreeFloat)\n",
    "FF_Mkt_Cap_10=round(last_oct*shares_out*BRD_FreeFloat)\n",
    "FF_Mkt_Cap_11=round(last_nov*shares_out*BRD_FreeFloat)\n",
    "FF_Mkt_Cap_12=round(last_dec*shares_out*BRD_FreeFloat)"
   ]
  },
  {
   "cell_type": "code",
   "execution_count": 324,
   "metadata": {},
   "outputs": [
    {
     "output_type": "stream",
     "name": "stdout",
     "text": [
      "671116162\n696204616\n746381526\n765197867\n618848548\n648118412\n706658139\n702476730\n673206866\n652299821\n694113912\n568671639\n"
     ]
    }
   ],
   "source": [
    "print(FF_Mkt_Cap)\n",
    "print(FF_Mkt_Cap_2)\n",
    "print(FF_Mkt_Cap_3)\n",
    "print(FF_Mkt_Cap_4)\n",
    "print(FF_Mkt_Cap_5)\n",
    "print(FF_Mkt_Cap_6)\n",
    "print(FF_Mkt_Cap_7)\n",
    "print(FF_Mkt_Cap_8)\n",
    "print(FF_Mkt_Cap_9)\n",
    "print(FF_Mkt_Cap_10)\n",
    "print(FF_Mkt_Cap_11)\n",
    "print(FF_Mkt_Cap_12)\n"
   ]
  },
  {
   "source": [
    "# Median_traded_value for each month"
   ],
   "cell_type": "markdown",
   "metadata": {}
  },
  {
   "cell_type": "code",
   "execution_count": 334,
   "metadata": {},
   "outputs": [],
   "source": [
    "Median_traded_value=1167801\n",
    "Median_traded_value2=1120879\n",
    "Median_traded_value3=1012924\n",
    "Median_traded_value4=889211\n",
    "Median_traded_value5=787451\n",
    "Median_traded_value6=1066475\n",
    "Median_traded_value7=589997\n",
    "Median_traded_value8=500793\n",
    "Median_traded_value9=1162866\n",
    "Median_traded_value10=404043\n",
    "Median_traded_value11=385335\n",
    "Median_traded_value12=116288"
   ]
  },
  {
   "source": [
    "# Monthly median traded value "
   ],
   "cell_type": "markdown",
   "metadata": {}
  },
  {
   "cell_type": "code",
   "execution_count": 335,
   "metadata": {},
   "outputs": [],
   "source": [
    "monthly_median_traded_value=round(Median_traded_value*Jan_days) \n",
    "monthly_median_traded_value2=round(Median_traded_value2*Feb_days)\n",
    "monthly_median_traded_value3=round(Median_traded_value3*March_days)\n",
    "monthly_median_traded_value4=round(Median_traded_value4*April_days)\n",
    "monthly_median_traded_value5=round(Median_traded_value5*May_days)\n",
    "monthly_median_traded_value6=round(Median_traded_value6*June_days)\n",
    "monthly_median_traded_value7=round(Median_traded_value7*Jul_days)\n",
    "monthly_median_traded_value8=round(Median_traded_value8*Aug_days)\n",
    "monthly_median_traded_value9=round(Median_traded_value9*Sep_days)\n",
    "monthly_median_traded_value10=round(Median_traded_value10*Oct_days)\n",
    "monthly_median_traded_value11=round(Median_traded_value11*Nov_days)\n",
    "monthly_median_traded_value12=round(Median_traded_value12*Dec_days)\n"
   ]
  },
  {
   "cell_type": "code",
   "execution_count": 336,
   "metadata": {},
   "outputs": [
    {
     "output_type": "stream",
     "name": "stdout",
     "text": [
      "22188219\n22417580\n22284328\n16895009\n16536471\n21329500\n12979934\n11017446\n24420186\n9292989\n8092035\n2209472\n"
     ]
    }
   ],
   "source": [
    "print(monthly_median_traded_value)\n",
    "print(monthly_median_traded_value2)\n",
    "print(monthly_median_traded_value3)\n",
    "print(monthly_median_traded_value4)\n",
    "print(monthly_median_traded_value5)\n",
    "print(monthly_median_traded_value6)\n",
    "print(monthly_median_traded_value7)\n",
    "print(monthly_median_traded_value8)\n",
    "print(monthly_median_traded_value9)\n",
    "print(monthly_median_traded_value10)\n",
    "print(monthly_median_traded_value11)\n",
    "print(monthly_median_traded_value12)"
   ]
  },
  {
   "source": [
    "# MTVR AS % for 12 months"
   ],
   "cell_type": "markdown",
   "metadata": {}
  },
  {
   "cell_type": "code",
   "execution_count": 337,
   "metadata": {},
   "outputs": [],
   "source": [
    "mtvr=(monthly_median_traded_value/FF_Mkt_Cap)\n",
    "mtvr2=monthly_median_traded_value2/FF_Mkt_Cap\n",
    "mtvr3=monthly_median_traded_value3/FF_Mkt_Cap\n",
    "mtvr4=monthly_median_traded_value4/FF_Mkt_Cap\n",
    "mtvr5=monthly_median_traded_value5/FF_Mkt_Cap\n",
    "mtvr6=monthly_median_traded_value6/FF_Mkt_Cap\n",
    "mtvr7=monthly_median_traded_value7/FF_Mkt_Cap\n",
    "mtvr8=monthly_median_traded_value8/FF_Mkt_Cap\n",
    "mtvr9=monthly_median_traded_value9/FF_Mkt_Cap\n",
    "mtvr10=monthly_median_traded_value10/FF_Mkt_Cap\n",
    "mtvr11=monthly_median_traded_value11/FF_Mkt_Cap\n",
    "mtvr12=monthly_median_traded_value12/FF_Mkt_Cap"
   ]
  },
  {
   "cell_type": "code",
   "execution_count": 342,
   "metadata": {},
   "outputs": [
    {
     "output_type": "stream",
     "name": "stdout",
     "text": [
      "0.033061666901116886\n0.03340342740844319\n0.03320487459814744\n0.025174492817534023\n0.024640251474080877\n0.03178212835231943\n0.01934081569622518\n0.016416600618239918\n0.03638742051335071\n0.013847064824524372\n0.012057577299114426\n0.0032922348247664463\n"
     ]
    }
   ],
   "source": [
    "print(mtvr)\n",
    "print(mtvr2)\n",
    "print(mtvr3)\n",
    "print(mtvr4)\n",
    "print(mtvr5)\n",
    "print(mtvr6)\n",
    "print(mtvr7)\n",
    "print(mtvr8)\n",
    "print(mtvr9)\n",
    "print(mtvr10)\n",
    "print(mtvr11)\n",
    "print(mtvr12)"
   ]
  },
  {
   "source": [
    "# Average MTVRs "
   ],
   "cell_type": "markdown",
   "metadata": {}
  },
  {
   "cell_type": "code",
   "execution_count": 353,
   "metadata": {},
   "outputs": [
    {
     "output_type": "stream",
     "name": "stdout",
     "text": [
      "0.023550712943988573\n"
     ]
    }
   ],
   "source": [
    "Average_mtvr=mtvr+mtvr2+mtvr3+mtvr4+mtvr5+mtvr6+mtvr7+mtvr8+mtvr9+mtvr10+mtvr11+mtvr12\n",
    "#print(Average_mtvr)\n",
    "atvr=Average_mtvr/12\n",
    "print(atvr)\n"
   ]
  },
  {
   "source": [
    "# ATVR12M"
   ],
   "cell_type": "markdown",
   "metadata": {}
  },
  {
   "source": [
    "ATVR12M=28.26% "
   ],
   "cell_type": "markdown",
   "metadata": {}
  },
  {
   "source": [
    "annualize to obtain final atvr"
   ],
   "cell_type": "markdown",
   "metadata": {}
  },
  {
   "cell_type": "code",
   "execution_count": 355,
   "metadata": {},
   "outputs": [
    {
     "output_type": "stream",
     "name": "stdout",
     "text": [
      "0.2826085553278629\n"
     ]
    }
   ],
   "source": [
    "BRD_ATVR12M=atvr*12\n",
    "print(BRD_ATVR12M) "
   ]
  },
  {
   "cell_type": "code",
   "execution_count": null,
   "metadata": {},
   "outputs": [],
   "source": []
  },
  {
   "cell_type": "code",
   "execution_count": null,
   "metadata": {},
   "outputs": [],
   "source": []
  },
  {
   "cell_type": "code",
   "execution_count": null,
   "metadata": {},
   "outputs": [],
   "source": []
  },
  {
   "cell_type": "code",
   "execution_count": null,
   "metadata": {},
   "outputs": [],
   "source": []
  }
 ]
}