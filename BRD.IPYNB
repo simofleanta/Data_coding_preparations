{
 "metadata": {
  "language_info": {
   "codemirror_mode": {
    "name": "ipython",
    "version": 3
   },
   "file_extension": ".py",
   "mimetype": "text/x-python",
   "name": "python",
   "nbconvert_exporter": "python",
   "pygments_lexer": "ipython3",
   "version": "3.8.2-final"
  },
  "orig_nbformat": 2,
  "kernelspec": {
   "name": "python3",
   "display_name": "Python 3.8.2 32-bit",
   "metadata": {
    "interpreter": {
     "hash": "2c9f59526c032d06429de540675487e911bf69c7a10b3b3b86e915eee204f9ed"
    }
   }
  }
 },
 "nbformat": 4,
 "nbformat_minor": 2,
 "cells": [
  {
   "cell_type": "code",
   "execution_count": 4,
   "metadata": {},
   "outputs": [],
   "source": [
    "\n",
    "import pandas as pd\n",
    "import seaborn as sns \n",
    "from pandas import DataFrame\n",
    "import matplotlib.pyplot as plt\n",
    "import plotly.express as px\n",
    "import plotly.graph_objects as go\n",
    "from sklearn.preprocessing import LabelEncoder\n",
    "import numpy as np\n",
    "import plotly\n",
    "import statistics\n",
    "import plotly.express as px\n",
    "import stats\n",
    "import matplotlib.pyplot as plt \n",
    "from sklearn.model_selection import train_test_split\n",
    "from sklearn.ensemble import RandomForestRegressor\n",
    "from sklearn.cluster import KMeans\n",
    "from sklearn.metrics import r2_score\n",
    "import plotly.express as px\n",
    "import datetime\n",
    "import datetime as dt\n",
    "import time\n",
    "\n",
    "cmap = sns.diverging_palette(220, 15, as_cmap=True)\n",
    "\n",
    "\n",
    "# Supress Scientific notation in python\n",
    "pd.set_option('display.float_format', lambda x: '%.2f' % x)\n",
    "\n",
    "# Display all columns of long dataframe\n",
    "pd.set_option('display.max_columns', None)\n"
   ]
  },
  {
   "source": [
    "# Load data"
   ],
   "cell_type": "markdown",
   "metadata": {}
  },
  {
   "cell_type": "code",
   "execution_count": 6,
   "metadata": {},
   "outputs": [
    {
     "output_type": "stream",
     "name": "stdout",
     "text": [
      "   Euro_value    Date   Turnover_ron Turnover_euro  Max_ron  Max_euro\n0        4.23  1/1/19  12,188,487.90  2,881,439.22    13.12      3.10\n1         nan  1/2/19  12,188,487.90  2,881,439.22    13.12      3.10\n2         nan  1/3/19     902,942.50    213,461.58    13.36      3.16\n"
     ]
    }
   ],
   "source": [
    "#open file\n",
    "brd='BRD.csv'\n",
    "df=pd.read_csv(brd)\n",
    "print(df.head(3))"
   ]
  },
  {
   "source": [
    "# remove euro col"
   ],
   "cell_type": "markdown",
   "metadata": {}
  },
  {
   "source": [
    "In 2019 euro vas 4.23."
   ],
   "cell_type": "markdown",
   "metadata": {}
  },
  {
   "cell_type": "code",
   "execution_count": 7,
   "metadata": {},
   "outputs": [
    {
     "output_type": "stream",
     "name": "stdout",
     "text": [
      "     Date   Turnover_ron Turnover_euro  Max_ron  Max_euro\n0  1/1/19  12,188,487.90  2,881,439.22    13.12      3.10\n1  1/2/19  12,188,487.90  2,881,439.22    13.12      3.10\n2  1/3/19     902,942.50    213,461.58    13.36      3.16\n"
     ]
    }
   ],
   "source": [
    "df=df.drop('Euro_value', axis='columns')\n",
    "print(df.head(3))"
   ]
  },
  {
   "source": [
    "# Parse date time series"
   ],
   "cell_type": "markdown",
   "metadata": {}
  },
  {
   "cell_type": "code",
   "execution_count": 13,
   "metadata": {},
   "outputs": [],
   "source": [
    "#parse index\n",
    "df['Date']=pd.to_datetime(df['Date'], infer_datetime_format=True)\n",
    "indexeddf=df.set_index(['Date'])\n",
    "#print(indexeddf)\n",
    "\n",
    "#parsing to time format and extracting dates \n",
    "x=df['Date']=pd.to_datetime(df['Date'], format='%d-%m-%y')\n",
    "\n",
    "Day=df['Date'].dt.day_name()\n",
    "Month=df['Date'].dt.month_name()\n",
    "Year=df['Date'].dt.year\n",
    "\n",
    "#subset\n",
    "df['Year']=df['Date'].dt.year\n",
    "df['Month']=df['Date'].dt.month\n",
    "df['Day']=df['Date'].dt.day\n",
    "#print(df)\n"
   ]
  },
  {
   "cell_type": "code",
   "execution_count": null,
   "metadata": {},
   "outputs": [],
   "source": []
  }
 ]
}