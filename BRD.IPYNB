{
 "metadata": {
  "language_info": {
   "codemirror_mode": {
    "name": "ipython",
    "version": 3
   },
   "file_extension": ".py",
   "mimetype": "text/x-python",
   "name": "python",
   "nbconvert_exporter": "python",
   "pygments_lexer": "ipython3",
   "version": "3.8.2-final"
  },
  "orig_nbformat": 2,
  "kernelspec": {
   "name": "python3",
   "display_name": "Python 3.8.2 32-bit",
   "metadata": {
    "interpreter": {
     "hash": "2c9f59526c032d06429de540675487e911bf69c7a10b3b3b86e915eee204f9ed"
    }
   }
  }
 },
 "nbformat": 4,
 "nbformat_minor": 2,
 "cells": [
  {
   "cell_type": "code",
   "execution_count": 4,
   "metadata": {},
   "outputs": [],
   "source": [
    "\n",
    "import pandas as pd\n",
    "import seaborn as sns \n",
    "from pandas import DataFrame\n",
    "import matplotlib.pyplot as plt\n",
    "import plotly.express as px\n",
    "import plotly.graph_objects as go\n",
    "from sklearn.preprocessing import LabelEncoder\n",
    "import numpy as np\n",
    "import plotly\n",
    "import statistics\n",
    "import plotly.express as px\n",
    "import stats\n",
    "import matplotlib.pyplot as plt \n",
    "from sklearn.model_selection import train_test_split\n",
    "from sklearn.ensemble import RandomForestRegressor\n",
    "from sklearn.cluster import KMeans\n",
    "from sklearn.metrics import r2_score\n",
    "import plotly.express as px\n",
    "import datetime\n",
    "import datetime as dt\n",
    "import time\n",
    "\n",
    "cmap = sns.diverging_palette(220, 15, as_cmap=True)\n",
    "\n",
    "\n",
    "# Supress Scientific notation in python\n",
    "pd.set_option('display.float_format', lambda x: '%.2f' % x)\n",
    "\n",
    "# Display all columns of long dataframe\n",
    "pd.set_option('display.max_columns', None)\n"
   ]
  },
  {
   "source": [
    "# Load data"
   ],
   "cell_type": "markdown",
   "metadata": {}
  },
  {
   "cell_type": "code",
   "execution_count": 6,
   "metadata": {},
   "outputs": [
    {
     "output_type": "stream",
     "name": "stdout",
     "text": [
      "   Euro_value    Date   Turnover_ron Turnover_euro  Max_ron  Max_euro\n0        4.23  1/1/19  12,188,487.90  2,881,439.22    13.12      3.10\n1         nan  1/2/19  12,188,487.90  2,881,439.22    13.12      3.10\n2         nan  1/3/19     902,942.50    213,461.58    13.36      3.16\n"
     ]
    }
   ],
   "source": [
    "#open file\n",
    "brd='BRD.csv'\n",
    "df=pd.read_csv(brd)\n",
    "print(df.head(3))"
   ]
  },
  {
   "source": [
    "# remove euro col"
   ],
   "cell_type": "markdown",
   "metadata": {}
  },
  {
   "source": [
    "In 2019 euro vas 4.23."
   ],
   "cell_type": "markdown",
   "metadata": {}
  },
  {
   "cell_type": "code",
   "execution_count": 7,
   "metadata": {},
   "outputs": [
    {
     "output_type": "stream",
     "name": "stdout",
     "text": [
      "     Date   Turnover_ron Turnover_euro  Max_ron  Max_euro\n0  1/1/19  12,188,487.90  2,881,439.22    13.12      3.10\n1  1/2/19  12,188,487.90  2,881,439.22    13.12      3.10\n2  1/3/19     902,942.50    213,461.58    13.36      3.16\n"
     ]
    }
   ],
   "source": [
    "df=df.drop('Euro_value', axis='columns')\n",
    "print(df.head(3))"
   ]
  },
  {
   "source": [
    "# Parse date time series"
   ],
   "cell_type": "markdown",
   "metadata": {}
  },
  {
   "cell_type": "code",
   "execution_count": 13,
   "metadata": {},
   "outputs": [],
   "source": [
    "#parse index\n",
    "df['Date']=pd.to_datetime(df['Date'], infer_datetime_format=True)\n",
    "indexeddf=df.set_index(['Date'])\n",
    "#print(indexeddf)\n",
    "\n",
    "#parsing to time format and extracting dates \n",
    "x=df['Date']=pd.to_datetime(df['Date'], format='%d-%m-%y')\n",
    "\n",
    "Day=df['Date'].dt.day_name()\n",
    "Month=df['Date'].dt.month_name()\n",
    "Year=df['Date'].dt.year\n",
    "\n",
    "#subset\n",
    "df['Year']=df['Date'].dt.year\n",
    "df['Month']=df['Date'].dt.month\n",
    "df['Day']=df['Date'].dt.day\n",
    "#print(df)\n"
   ]
  },
  {
   "source": [
    "# passing the variables"
   ],
   "cell_type": "markdown",
   "metadata": {}
  },
  {
   "cell_type": "code",
   "execution_count": 14,
   "metadata": {},
   "outputs": [],
   "source": [
    "shares_out=696901518\n",
    "BRD_FreeFloat=0.3\n",
    "\n",
    "#number of days for each month\n",
    "Jan_days=20\n",
    "Feb_days=19\n",
    "March_days=22\n",
    "April_days=19\n",
    "May_days=21\n",
    "June_days=20\n",
    "Jul_days=22\n",
    "Aug_days=22\n",
    "Sep_days=21\n",
    "Oct_days=23\n",
    "Nov_days=21\n",
    "Dec_days=19\n",
    "\n",
    "#last prices in months\n",
    "\n",
    "last_jan=3.21\n",
    "last_feb=3.33\n",
    "last_mar=3.57\n",
    "last_apr=3.66\n",
    "last_may=2.96\n",
    "last_jun=3.10\n",
    "last_jul=3.38\n",
    "last_aug=3.36\n",
    "last_sep=3.22\n",
    "last_oct=3.12\n",
    "last_nov=3.32\n",
    "last_dec=2.72"
   ]
  },
  {
   "source": [
    "# Formulae"
   ],
   "cell_type": "markdown",
   "metadata": {}
  },
  {
   "source": [
    "#FF Market Cap == calculeaza folosind ultimul pret din luna respectiva in USD * Numarul de actiuni * 0.3 (FF) FAZA 1                    \n",
    "#Median Traded Value == mediana valorilor tranzactionate dintr-o luna.FAZA 2                                                     \n",
    "#Monthly Median Traded Value == Median Traded Value (USD) * numarul de zile tranzactionate din luna respective FAZA3               \n",
    "#MTVR == Monthly Median Traded Value / FF Market Cap FAZA 4"
   ],
   "cell_type": "markdown",
   "metadata": {}
  },
  {
   "source": [
    "FF Market Cap"
   ],
   "cell_type": "markdown",
   "metadata": {}
  },
  {
   "cell_type": "code",
   "execution_count": 15,
   "metadata": {},
   "outputs": [],
   "source": [
    "FF_Mkt_Cap=last_jan*shares_out*BRD_FreeFloat"
   ]
  },
  {
   "cell_type": "code",
   "execution_count": null,
   "metadata": {},
   "outputs": [],
   "source": []
  }
 ]
}