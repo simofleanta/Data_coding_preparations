{
 "metadata": {
  "language_info": {
   "codemirror_mode": {
    "name": "ipython",
    "version": 3
   },
   "file_extension": ".py",
   "mimetype": "text/x-python",
   "name": "python",
   "nbconvert_exporter": "python",
   "pygments_lexer": "ipython3",
   "version": "3.8.2-final"
  },
  "orig_nbformat": 2,
  "kernelspec": {
   "name": "python3",
   "display_name": "Python 3.8.2 32-bit",
   "metadata": {
    "interpreter": {
     "hash": "2c9f59526c032d06429de540675487e911bf69c7a10b3b3b86e915eee204f9ed"
    }
   }
  }
 },
 "nbformat": 4,
 "nbformat_minor": 2,
 "cells": [
  {
   "cell_type": "code",
   "execution_count": 5,
   "metadata": {},
   "outputs": [],
   "source": [
    "import pandas as pd\n",
    "import seaborn as sns \n",
    "from pandas import DataFrame\n",
    "import matplotlib.pyplot as plt\n",
    "from matplotlib.colors import LinearSegmentedColormap, to_rgb\n",
    "from matplotlib import cm\n",
    "from matplotlib.patches import Polygon\n",
    "from matplotlib.collections import PatchCollection\n",
    "import matplotlib.colors as colors\n",
    "from sklearn.preprocessing import LabelEncoder\n",
    "import numpy as np\n",
    "import statistics\n",
    "import stats\n",
    "from sklearn.model_selection import train_test_split\n",
    "from sklearn.ensemble import RandomForestRegressor\n",
    "from sklearn.metrics import r2_score\n",
    "import datetime\n",
    "import datetime as dt\n",
    "import time\n",
    "import django.template.backends.jinja2"
   ]
  },
  {
   "cell_type": "code",
   "execution_count": 8,
   "metadata": {},
   "outputs": [
    {
     "output_type": "stream",
     "name": "stdout",
     "text": [
      "                        Cost   Jan   Feb   Mar   Apr   May   Jun   Jul   Aug  \\\n0             BI_consultancy  7200  7200  7200  7200  7200  7200  7200  7200   \n1      Career_Development_BI  5000  5000  5000  5000  5000  5000  5000  5000   \n2  Python Data Visualization  5400  5400  5400  5400  5400  5400  5400  5400   \n3             Data_Analysis   7200  7200  7200  7200  7200  7200  7200  7200   \n4               Social_media   200     0   200   150   100     0   150     0   \n\n    Sep   Oct   Nov   Dec  \n0  7200  7200  7200  7200  \n1  5000  5000  5000  5000  \n2  5400  5400  5400  5400  \n3  7200  7200  7200  7200  \n4   150   150   150   150  \n"
     ]
    }
   ],
   "source": [
    "b='B.csv'\n",
    "plan=pd.read_csv(b)\n",
    "print(plan.head(5))"
   ]
  },
  {
   "cell_type": "code",
   "execution_count": 9,
   "metadata": {},
   "outputs": [
    {
     "output_type": "stream",
     "name": "stdout",
     "text": [
      "0                BI_consultancy\n1         Career_Development_BI\n2     Python Data Visualization\n3                Data_Analysis \n4                  Social_media\n5                   Web_hosting\n6                     Equipment\n7                      Meetings\n8                 Seo_marketing\n9                    Accountant\n10                        Rents\n11                           VA\n12                        Phone\n13                    Coworking\n14                    Utilities\n15                   BI_Analyst\n16                      Savings\n17                    Transport\n18                  Company_tax\n19                     Licenses\n20                 Urgency Fund\nName: Cost, dtype: object\n"
     ]
    }
   ],
   "source": [
    "print(plan.Cost)"
   ]
  },
  {
   "source": [
    "Subsets"
   ],
   "cell_type": "markdown",
   "metadata": {}
  },
  {
   "cell_type": "code",
   "execution_count": null,
   "metadata": {},
   "outputs": [],
   "source": [
    "income=plan[['BI_consultancy', 'Career_Development_BI']]"
   ]
  }
 ]
}