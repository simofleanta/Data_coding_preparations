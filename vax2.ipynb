{
 "metadata": {
  "language_info": {
   "codemirror_mode": {
    "name": "ipython",
    "version": 3
   },
   "file_extension": ".py",
   "mimetype": "text/x-python",
   "name": "python",
   "nbconvert_exporter": "python",
   "pygments_lexer": "ipython3",
   "version": "3.8.2-final"
  },
  "orig_nbformat": 2,
  "kernelspec": {
   "name": "python3",
   "display_name": "Python 3.8.2 32-bit",
   "metadata": {
    "interpreter": {
     "hash": "2c9f59526c032d06429de540675487e911bf69c7a10b3b3b86e915eee204f9ed"
    }
   }
  }
 },
 "nbformat": 4,
 "nbformat_minor": 2,
 "cells": [
  {
   "cell_type": "code",
   "execution_count": 2,
   "metadata": {},
   "outputs": [],
   "source": [
    "import pandas as pd\n",
    "import seaborn as sns \n",
    "from pandas import DataFrame\n",
    "import matplotlib.pyplot as plt\n",
    "import plotly.express as px\n",
    "import plotly.graph_objects as go\n",
    "from sklearn.preprocessing import LabelEncoder\n",
    "import numpy as np\n",
    "import plotly\n",
    "import statistics\n",
    "import plotly.express as px\n",
    "import stats\n",
    "import matplotlib.pyplot as plt \n",
    "from sklearn.model_selection import train_test_split\n",
    "from sklearn.ensemble import RandomForestRegressor\n",
    "from sklearn.cluster import KMeans\n",
    "from sklearn.metrics import r2_score\n",
    "import plotly.express as px\n",
    "import datetime\n",
    "import datetime as dt\n",
    "import time\n",
    "import django.template.backends.jinja2"
   ]
  },
  {
   "cell_type": "code",
   "execution_count": 3,
   "metadata": {},
   "outputs": [
    {
     "output_type": "stream",
     "name": "stdout",
     "text": [
      "         country iso_code        date  total_vaccinations  people_vaccinated  \\\n0        Romania      ROU  12/27/2020                 965                965   \n1        Romania      ROU  12/28/2020                2066               2066   \n2        Romania      ROU  12/29/2020                2778               2778   \n3        Romania      ROU  12/30/2020                5666               5666   \n4        Romania      ROU  12/31/2020               10289              10289   \n..           ...      ...         ...                 ...                ...   \n369  Netherlands      NLD   3/10/2021                   0                  0   \n370  Netherlands      NLD   3/11/2021                   0                  0   \n371  Netherlands      NLD   3/12/2021                   0                  0   \n372  Netherlands      NLD   3/13/2021                   0                  0   \n373  Netherlands      NLD   3/14/2021             1887726            1394603   \n\n     people_fully_vaccinated  daily_vaccinations_raw  daily_vaccinations  \\\n0                          0                       0                   0   \n1                          0                    1101                1101   \n2                          0                     712                 906   \n3                          0                    2888                1567   \n4                          0                    4623                2331   \n..                       ...                     ...                 ...   \n369                        0                       0               39537   \n370                        0                       0               39220   \n371                        0                       0               38903   \n372                        0                       0               38586   \n373                   493123                       0               38270   \n\n     total_vaccinations_per_hundred  people_vaccinated_per_hundred  \\\n0                              0.01                           0.01   \n1                              0.01                           0.01   \n2                              0.01                           0.01   \n3                              0.03                           0.03   \n4                              0.05                           0.05   \n..                              ...                            ...   \n369                            0.00                           0.00   \n370                            0.00                           0.00   \n371                            0.00                           0.00   \n372                            0.00                           0.00   \n373                           11.02                           8.14   \n\n     people_fully_vaccinated_per_hundred  daily_vaccinations_per_million  \\\n0                                   0.00                               0   \n1                                   0.00                              57   \n2                                   0.00                              47   \n3                                   0.00                              81   \n4                                   0.00                             121   \n..                                   ...                             ...   \n369                                 0.00                            2307   \n370                                 0.00                            2289   \n371                                 0.00                            2270   \n372                                 0.00                            2252   \n373                                 2.88                            2233   \n\n                                         vaccines  \\\n0    Moderna, Oxford/AstraZeneca, Pfizer/BioNTech   \n1    Moderna, Oxford/AstraZeneca, Pfizer/BioNTech   \n2    Moderna, Oxford/AstraZeneca, Pfizer/BioNTech   \n3    Moderna, Oxford/AstraZeneca, Pfizer/BioNTech   \n4    Moderna, Oxford/AstraZeneca, Pfizer/BioNTech   \n..                                            ...   \n369  Moderna, Oxford/AstraZeneca, Pfizer/BioNTech   \n370  Moderna, Oxford/AstraZeneca, Pfizer/BioNTech   \n371  Moderna, Oxford/AstraZeneca, Pfizer/BioNTech   \n372  Moderna, Oxford/AstraZeneca, Pfizer/BioNTech   \n373  Moderna, Oxford/AstraZeneca, Pfizer/BioNTech   \n\n                                           source_name  \n0                                Government of Romania  \n1                                Government of Romania  \n2                                Government of Romania  \n3                                Government of Romania  \n4                                Government of Romania  \n..                                                 ...  \n369  National Institute for Public Health and the E...  \n370  National Institute for Public Health and the E...  \n371  National Institute for Public Health and the E...  \n372  National Institute for Public Health and the E...  \n373  National Institute for Public Health and the E...  \n\n[374 rows x 14 columns]\n"
     ]
    }
   ],
   "source": [
    "\n",
    "vax_path='EU_vaccs.csv'\n",
    "vax_eu=pd.read_csv(vax_path)\n",
    "print(vax_eu)"
   ]
  },
  {
   "cell_type": "code",
   "execution_count": 5,
   "metadata": {},
   "outputs": [
    {
     "output_type": "stream",
     "name": "stdout",
     "text": [
      "                country iso_code  total_vaccinations  people_vaccinated  \\\ndate                                                                      \n2020-12-27      Romania      ROU                 965                965   \n2020-12-28      Romania      ROU                2066               2066   \n2020-12-29      Romania      ROU                2778               2778   \n2020-12-30      Romania      ROU                5666               5666   \n2020-12-31      Romania      ROU               10289              10289   \n...                 ...      ...                 ...                ...   \n2021-03-10  Netherlands      NLD                   0                  0   \n2021-03-11  Netherlands      NLD                   0                  0   \n2021-03-12  Netherlands      NLD                   0                  0   \n2021-03-13  Netherlands      NLD                   0                  0   \n2021-03-14  Netherlands      NLD             1887726            1394603   \n\n            people_fully_vaccinated  daily_vaccinations_raw  \\\ndate                                                          \n2020-12-27                        0                       0   \n2020-12-28                        0                    1101   \n2020-12-29                        0                     712   \n2020-12-30                        0                    2888   \n2020-12-31                        0                    4623   \n...                             ...                     ...   \n2021-03-10                        0                       0   \n2021-03-11                        0                       0   \n2021-03-12                        0                       0   \n2021-03-13                        0                       0   \n2021-03-14                   493123                       0   \n\n            daily_vaccinations  total_vaccinations_per_hundred  \\\ndate                                                             \n2020-12-27                   0                            0.01   \n2020-12-28                1101                            0.01   \n2020-12-29                 906                            0.01   \n2020-12-30                1567                            0.03   \n2020-12-31                2331                            0.05   \n...                        ...                             ...   \n2021-03-10               39537                            0.00   \n2021-03-11               39220                            0.00   \n2021-03-12               38903                            0.00   \n2021-03-13               38586                            0.00   \n2021-03-14               38270                           11.02   \n\n            people_vaccinated_per_hundred  \\\ndate                                        \n2020-12-27                           0.01   \n2020-12-28                           0.01   \n2020-12-29                           0.01   \n2020-12-30                           0.03   \n2020-12-31                           0.05   \n...                                   ...   \n2021-03-10                           0.00   \n2021-03-11                           0.00   \n2021-03-12                           0.00   \n2021-03-13                           0.00   \n2021-03-14                           8.14   \n\n            people_fully_vaccinated_per_hundred  \\\ndate                                              \n2020-12-27                                 0.00   \n2020-12-28                                 0.00   \n2020-12-29                                 0.00   \n2020-12-30                                 0.00   \n2020-12-31                                 0.00   \n...                                         ...   \n2021-03-10                                 0.00   \n2021-03-11                                 0.00   \n2021-03-12                                 0.00   \n2021-03-13                                 0.00   \n2021-03-14                                 2.88   \n\n            daily_vaccinations_per_million  \\\ndate                                         \n2020-12-27                               0   \n2020-12-28                              57   \n2020-12-29                              47   \n2020-12-30                              81   \n2020-12-31                             121   \n...                                    ...   \n2021-03-10                            2307   \n2021-03-11                            2289   \n2021-03-12                            2270   \n2021-03-13                            2252   \n2021-03-14                            2233   \n\n                                                vaccines  \\\ndate                                                       \n2020-12-27  Moderna, Oxford/AstraZeneca, Pfizer/BioNTech   \n2020-12-28  Moderna, Oxford/AstraZeneca, Pfizer/BioNTech   \n2020-12-29  Moderna, Oxford/AstraZeneca, Pfizer/BioNTech   \n2020-12-30  Moderna, Oxford/AstraZeneca, Pfizer/BioNTech   \n2020-12-31  Moderna, Oxford/AstraZeneca, Pfizer/BioNTech   \n...                                                  ...   \n2021-03-10  Moderna, Oxford/AstraZeneca, Pfizer/BioNTech   \n2021-03-11  Moderna, Oxford/AstraZeneca, Pfizer/BioNTech   \n2021-03-12  Moderna, Oxford/AstraZeneca, Pfizer/BioNTech   \n2021-03-13  Moderna, Oxford/AstraZeneca, Pfizer/BioNTech   \n2021-03-14  Moderna, Oxford/AstraZeneca, Pfizer/BioNTech   \n\n                                                  source_name  \ndate                                                           \n2020-12-27                              Government of Romania  \n2020-12-28                              Government of Romania  \n2020-12-29                              Government of Romania  \n2020-12-30                              Government of Romania  \n2020-12-31                              Government of Romania  \n...                                                       ...  \n2021-03-10  National Institute for Public Health and the E...  \n2021-03-11  National Institute for Public Health and the E...  \n2021-03-12  National Institute for Public Health and the E...  \n2021-03-13  National Institute for Public Health and the E...  \n2021-03-14  National Institute for Public Health and the E...  \n\n[374 rows x 13 columns]\n"
     ]
    }
   ],
   "source": [
    "#parse index\n",
    "vax_eu['date']=pd.to_datetime(vax_eu['date'], infer_datetime_format=True)\n",
    "indexeddf=vax_eu.set_index(['date'])\n",
    "print(indexeddf)"
   ]
  },
  {
   "cell_type": "code",
   "execution_count": 9,
   "metadata": {},
   "outputs": [
    {
     "output_type": "stream",
     "name": "stdout",
     "text": [
      "         country iso_code       date  total_vaccinations  people_vaccinated  \\\n0        Romania      ROU 2020-12-27                 965                965   \n1        Romania      ROU 2020-12-28                2066               2066   \n2        Romania      ROU 2020-12-29                2778               2778   \n3        Romania      ROU 2020-12-30                5666               5666   \n4        Romania      ROU 2020-12-31               10289              10289   \n..           ...      ...        ...                 ...                ...   \n369  Netherlands      NLD 2021-03-10                   0                  0   \n370  Netherlands      NLD 2021-03-11                   0                  0   \n371  Netherlands      NLD 2021-03-12                   0                  0   \n372  Netherlands      NLD 2021-03-13                   0                  0   \n373  Netherlands      NLD 2021-03-14             1887726            1394603   \n\n     people_fully_vaccinated  daily_vaccinations_raw  daily_vaccinations  \\\n0                          0                       0                   0   \n1                          0                    1101                1101   \n2                          0                     712                 906   \n3                          0                    2888                1567   \n4                          0                    4623                2331   \n..                       ...                     ...                 ...   \n369                        0                       0               39537   \n370                        0                       0               39220   \n371                        0                       0               38903   \n372                        0                       0               38586   \n373                   493123                       0               38270   \n\n     total_vaccinations_per_hundred  people_vaccinated_per_hundred  \\\n0                              0.01                           0.01   \n1                              0.01                           0.01   \n2                              0.01                           0.01   \n3                              0.03                           0.03   \n4                              0.05                           0.05   \n..                              ...                            ...   \n369                            0.00                           0.00   \n370                            0.00                           0.00   \n371                            0.00                           0.00   \n372                            0.00                           0.00   \n373                           11.02                           8.14   \n\n     people_fully_vaccinated_per_hundred  daily_vaccinations_per_million  \\\n0                                   0.00                               0   \n1                                   0.00                              57   \n2                                   0.00                              47   \n3                                   0.00                              81   \n4                                   0.00                             121   \n..                                   ...                             ...   \n369                                 0.00                            2307   \n370                                 0.00                            2289   \n371                                 0.00                            2270   \n372                                 0.00                            2252   \n373                                 2.88                            2233   \n\n                                         vaccines  \\\n0    Moderna, Oxford/AstraZeneca, Pfizer/BioNTech   \n1    Moderna, Oxford/AstraZeneca, Pfizer/BioNTech   \n2    Moderna, Oxford/AstraZeneca, Pfizer/BioNTech   \n3    Moderna, Oxford/AstraZeneca, Pfizer/BioNTech   \n4    Moderna, Oxford/AstraZeneca, Pfizer/BioNTech   \n..                                            ...   \n369  Moderna, Oxford/AstraZeneca, Pfizer/BioNTech   \n370  Moderna, Oxford/AstraZeneca, Pfizer/BioNTech   \n371  Moderna, Oxford/AstraZeneca, Pfizer/BioNTech   \n372  Moderna, Oxford/AstraZeneca, Pfizer/BioNTech   \n373  Moderna, Oxford/AstraZeneca, Pfizer/BioNTech   \n\n                                           source_name  Year     Month  \\\n0                                Government of Romania  2020  December   \n1                                Government of Romania  2020  December   \n2                                Government of Romania  2020  December   \n3                                Government of Romania  2020  December   \n4                                Government of Romania  2020  December   \n..                                                 ...   ...       ...   \n369  National Institute for Public Health and the E...  2021     March   \n370  National Institute for Public Health and the E...  2021     March   \n371  National Institute for Public Health and the E...  2021     March   \n372  National Institute for Public Health and the E...  2021     March   \n373  National Institute for Public Health and the E...  2021     March   \n\n           Day  \n0       Sunday  \n1       Monday  \n2      Tuesday  \n3    Wednesday  \n4     Thursday  \n..         ...  \n369  Wednesday  \n370   Thursday  \n371     Friday  \n372   Saturday  \n373     Sunday  \n\n[374 rows x 17 columns]\n"
     ]
    }
   ],
   "source": [
    "\n",
    "\n",
    "#parsing to time format and extracting dates with 'created_at'\n",
    "x=vax_eu['date']=pd.to_datetime(vax_eu['date'], format='%d-%m-%y')\n",
    "\n",
    "Day=vax_eu['date'].dt.day_name()\n",
    "Month=vax_eu['date'].dt.month_name()\n",
    "Year=vax_eu['date'].dt.year\n",
    "\n",
    "#subsetting \n",
    "vax_eu['Year']=vax_eu['date'].dt.year\n",
    "vax_eu['Month']=vax_eu['date'].dt.month_name()\n",
    "vax_eu['Day']=vax_eu['date'].dt.day_name()\n",
    "print(vax_eu)"
   ]
  },
  {
   "cell_type": "code",
   "execution_count": null,
   "metadata": {},
   "outputs": [],
   "source": []
  }
 ]
}