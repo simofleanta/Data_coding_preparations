{
 "metadata": {
  "language_info": {
   "codemirror_mode": {
    "name": "ipython",
    "version": 3
   },
   "file_extension": ".py",
   "mimetype": "text/x-python",
   "name": "python",
   "nbconvert_exporter": "python",
   "pygments_lexer": "ipython3",
   "version": "3.8.2-final"
  },
  "orig_nbformat": 2,
  "kernelspec": {
   "name": "python3",
   "display_name": "Python 3.8.2 32-bit",
   "metadata": {
    "interpreter": {
     "hash": "2c9f59526c032d06429de540675487e911bf69c7a10b3b3b86e915eee204f9ed"
    }
   }
  }
 },
 "nbformat": 4,
 "nbformat_minor": 2,
 "cells": [
  {
   "cell_type": "code",
   "execution_count": 2,
   "metadata": {},
   "outputs": [],
   "source": [
    "import pandas as pd\n",
    "import seaborn as sns \n",
    "from pandas import DataFrame\n",
    "import matplotlib.pyplot as plt\n",
    "import plotly.express as px\n",
    "import plotly.graph_objects as go\n",
    "from sklearn.preprocessing import LabelEncoder\n",
    "import numpy as np\n",
    "import plotly\n",
    "import statistics\n",
    "import plotly.express as px\n",
    "import stats\n",
    "import matplotlib.pyplot as plt \n",
    "from sklearn.model_selection import train_test_split\n",
    "from sklearn.ensemble import RandomForestRegressor\n",
    "from sklearn.cluster import KMeans\n",
    "from sklearn.metrics import r2_score\n",
    "import plotly.express as px\n",
    "import datetime\n",
    "import datetime as dt\n",
    "import time\n",
    "import django.template.backends.jinja2"
   ]
  },
  {
   "cell_type": "code",
   "execution_count": 3,
   "metadata": {},
   "outputs": [
    {
     "output_type": "stream",
     "name": "stdout",
     "text": [
      "         country iso_code        date  total_vaccinations  people_vaccinated  \\\n0        Romania      ROU  12/27/2020                 965                965   \n1        Romania      ROU  12/28/2020                2066               2066   \n2        Romania      ROU  12/29/2020                2778               2778   \n3        Romania      ROU  12/30/2020                5666               5666   \n4        Romania      ROU  12/31/2020               10289              10289   \n..           ...      ...         ...                 ...                ...   \n369  Netherlands      NLD   3/10/2021                   0                  0   \n370  Netherlands      NLD   3/11/2021                   0                  0   \n371  Netherlands      NLD   3/12/2021                   0                  0   \n372  Netherlands      NLD   3/13/2021                   0                  0   \n373  Netherlands      NLD   3/14/2021             1887726            1394603   \n\n     people_fully_vaccinated  daily_vaccinations_raw  daily_vaccinations  \\\n0                          0                       0                   0   \n1                          0                    1101                1101   \n2                          0                     712                 906   \n3                          0                    2888                1567   \n4                          0                    4623                2331   \n..                       ...                     ...                 ...   \n369                        0                       0               39537   \n370                        0                       0               39220   \n371                        0                       0               38903   \n372                        0                       0               38586   \n373                   493123                       0               38270   \n\n     total_vaccinations_per_hundred  people_vaccinated_per_hundred  \\\n0                              0.01                           0.01   \n1                              0.01                           0.01   \n2                              0.01                           0.01   \n3                              0.03                           0.03   \n4                              0.05                           0.05   \n..                              ...                            ...   \n369                            0.00                           0.00   \n370                            0.00                           0.00   \n371                            0.00                           0.00   \n372                            0.00                           0.00   \n373                           11.02                           8.14   \n\n     people_fully_vaccinated_per_hundred  daily_vaccinations_per_million  \\\n0                                   0.00                               0   \n1                                   0.00                              57   \n2                                   0.00                              47   \n3                                   0.00                              81   \n4                                   0.00                             121   \n..                                   ...                             ...   \n369                                 0.00                            2307   \n370                                 0.00                            2289   \n371                                 0.00                            2270   \n372                                 0.00                            2252   \n373                                 2.88                            2233   \n\n                                         vaccines  \\\n0    Moderna, Oxford/AstraZeneca, Pfizer/BioNTech   \n1    Moderna, Oxford/AstraZeneca, Pfizer/BioNTech   \n2    Moderna, Oxford/AstraZeneca, Pfizer/BioNTech   \n3    Moderna, Oxford/AstraZeneca, Pfizer/BioNTech   \n4    Moderna, Oxford/AstraZeneca, Pfizer/BioNTech   \n..                                            ...   \n369  Moderna, Oxford/AstraZeneca, Pfizer/BioNTech   \n370  Moderna, Oxford/AstraZeneca, Pfizer/BioNTech   \n371  Moderna, Oxford/AstraZeneca, Pfizer/BioNTech   \n372  Moderna, Oxford/AstraZeneca, Pfizer/BioNTech   \n373  Moderna, Oxford/AstraZeneca, Pfizer/BioNTech   \n\n                                           source_name  \n0                                Government of Romania  \n1                                Government of Romania  \n2                                Government of Romania  \n3                                Government of Romania  \n4                                Government of Romania  \n..                                                 ...  \n369  National Institute for Public Health and the E...  \n370  National Institute for Public Health and the E...  \n371  National Institute for Public Health and the E...  \n372  National Institute for Public Health and the E...  \n373  National Institute for Public Health and the E...  \n\n[374 rows x 14 columns]\n"
     ]
    }
   ],
   "source": [
    "\n",
    "vax_path='EU_vaccs.csv'\n",
    "vax_eu=pd.read_csv(vax_path)\n",
    "print(vax_eu)"
   ]
  },
  {
   "cell_type": "code",
   "execution_count": 5,
   "metadata": {},
   "outputs": [
    {
     "output_type": "stream",
     "name": "stdout",
     "text": [
      "                country iso_code  total_vaccinations  people_vaccinated  \\\ndate                                                                      \n2020-12-27      Romania      ROU                 965                965   \n2020-12-28      Romania      ROU                2066               2066   \n2020-12-29      Romania      ROU                2778               2778   \n2020-12-30      Romania      ROU                5666               5666   \n2020-12-31      Romania      ROU               10289              10289   \n...                 ...      ...                 ...                ...   \n2021-03-10  Netherlands      NLD                   0                  0   \n2021-03-11  Netherlands      NLD                   0                  0   \n2021-03-12  Netherlands      NLD                   0                  0   \n2021-03-13  Netherlands      NLD                   0                  0   \n2021-03-14  Netherlands      NLD             1887726            1394603   \n\n            people_fully_vaccinated  daily_vaccinations_raw  \\\ndate                                                          \n2020-12-27                        0                       0   \n2020-12-28                        0                    1101   \n2020-12-29                        0                     712   \n2020-12-30                        0                    2888   \n2020-12-31                        0                    4623   \n...                             ...                     ...   \n2021-03-10                        0                       0   \n2021-03-11                        0                       0   \n2021-03-12                        0                       0   \n2021-03-13                        0                       0   \n2021-03-14                   493123                       0   \n\n            daily_vaccinations  total_vaccinations_per_hundred  \\\ndate                                                             \n2020-12-27                   0                            0.01   \n2020-12-28                1101                            0.01   \n2020-12-29                 906                            0.01   \n2020-12-30                1567                            0.03   \n2020-12-31                2331                            0.05   \n...                        ...                             ...   \n2021-03-10               39537                            0.00   \n2021-03-11               39220                            0.00   \n2021-03-12               38903                            0.00   \n2021-03-13               38586                            0.00   \n2021-03-14               38270                           11.02   \n\n            people_vaccinated_per_hundred  \\\ndate                                        \n2020-12-27                           0.01   \n2020-12-28                           0.01   \n2020-12-29                           0.01   \n2020-12-30                           0.03   \n2020-12-31                           0.05   \n...                                   ...   \n2021-03-10                           0.00   \n2021-03-11                           0.00   \n2021-03-12                           0.00   \n2021-03-13                           0.00   \n2021-03-14                           8.14   \n\n            people_fully_vaccinated_per_hundred  \\\ndate                                              \n2020-12-27                                 0.00   \n2020-12-28                                 0.00   \n2020-12-29                                 0.00   \n2020-12-30                                 0.00   \n2020-12-31                                 0.00   \n...                                         ...   \n2021-03-10                                 0.00   \n2021-03-11                                 0.00   \n2021-03-12                                 0.00   \n2021-03-13                                 0.00   \n2021-03-14                                 2.88   \n\n            daily_vaccinations_per_million  \\\ndate                                         \n2020-12-27                               0   \n2020-12-28                              57   \n2020-12-29                              47   \n2020-12-30                              81   \n2020-12-31                             121   \n...                                    ...   \n2021-03-10                            2307   \n2021-03-11                            2289   \n2021-03-12                            2270   \n2021-03-13                            2252   \n2021-03-14                            2233   \n\n                                                vaccines  \\\ndate                                                       \n2020-12-27  Moderna, Oxford/AstraZeneca, Pfizer/BioNTech   \n2020-12-28  Moderna, Oxford/AstraZeneca, Pfizer/BioNTech   \n2020-12-29  Moderna, Oxford/AstraZeneca, Pfizer/BioNTech   \n2020-12-30  Moderna, Oxford/AstraZeneca, Pfizer/BioNTech   \n2020-12-31  Moderna, Oxford/AstraZeneca, Pfizer/BioNTech   \n...                                                  ...   \n2021-03-10  Moderna, Oxford/AstraZeneca, Pfizer/BioNTech   \n2021-03-11  Moderna, Oxford/AstraZeneca, Pfizer/BioNTech   \n2021-03-12  Moderna, Oxford/AstraZeneca, Pfizer/BioNTech   \n2021-03-13  Moderna, Oxford/AstraZeneca, Pfizer/BioNTech   \n2021-03-14  Moderna, Oxford/AstraZeneca, Pfizer/BioNTech   \n\n                                                  source_name  \ndate                                                           \n2020-12-27                              Government of Romania  \n2020-12-28                              Government of Romania  \n2020-12-29                              Government of Romania  \n2020-12-30                              Government of Romania  \n2020-12-31                              Government of Romania  \n...                                                       ...  \n2021-03-10  National Institute for Public Health and the E...  \n2021-03-11  National Institute for Public Health and the E...  \n2021-03-12  National Institute for Public Health and the E...  \n2021-03-13  National Institute for Public Health and the E...  \n2021-03-14  National Institute for Public Health and the E...  \n\n[374 rows x 13 columns]\n"
     ]
    }
   ],
   "source": [
    "#parse index\n",
    "vax_eu['date']=pd.to_datetime(vax_eu['date'], infer_datetime_format=True)\n",
    "indexeddf=vax_eu.set_index(['date'])\n",
    "print(indexeddf)"
   ]
  },
  {
   "cell_type": "code",
   "execution_count": 10,
   "metadata": {},
   "outputs": [
    {
     "output_type": "stream",
     "name": "stdout",
     "text": [
      "         country iso_code       date  total_vaccinations  people_vaccinated  \\\n0        Romania      ROU 2020-12-27                 965                965   \n1        Romania      ROU 2020-12-28                2066               2066   \n2        Romania      ROU 2020-12-29                2778               2778   \n3        Romania      ROU 2020-12-30                5666               5666   \n4        Romania      ROU 2020-12-31               10289              10289   \n..           ...      ...        ...                 ...                ...   \n369  Netherlands      NLD 2021-03-10                   0                  0   \n370  Netherlands      NLD 2021-03-11                   0                  0   \n371  Netherlands      NLD 2021-03-12                   0                  0   \n372  Netherlands      NLD 2021-03-13                   0                  0   \n373  Netherlands      NLD 2021-03-14             1887726            1394603   \n\n     people_fully_vaccinated  daily_vaccinations_raw  daily_vaccinations  \\\n0                          0                       0                   0   \n1                          0                    1101                1101   \n2                          0                     712                 906   \n3                          0                    2888                1567   \n4                          0                    4623                2331   \n..                       ...                     ...                 ...   \n369                        0                       0               39537   \n370                        0                       0               39220   \n371                        0                       0               38903   \n372                        0                       0               38586   \n373                   493123                       0               38270   \n\n     total_vaccinations_per_hundred  people_vaccinated_per_hundred  \\\n0                              0.01                           0.01   \n1                              0.01                           0.01   \n2                              0.01                           0.01   \n3                              0.03                           0.03   \n4                              0.05                           0.05   \n..                              ...                            ...   \n369                            0.00                           0.00   \n370                            0.00                           0.00   \n371                            0.00                           0.00   \n372                            0.00                           0.00   \n373                           11.02                           8.14   \n\n     people_fully_vaccinated_per_hundred  daily_vaccinations_per_million  \\\n0                                   0.00                               0   \n1                                   0.00                              57   \n2                                   0.00                              47   \n3                                   0.00                              81   \n4                                   0.00                             121   \n..                                   ...                             ...   \n369                                 0.00                            2307   \n370                                 0.00                            2289   \n371                                 0.00                            2270   \n372                                 0.00                            2252   \n373                                 2.88                            2233   \n\n                                         vaccines  \\\n0    Moderna, Oxford/AstraZeneca, Pfizer/BioNTech   \n1    Moderna, Oxford/AstraZeneca, Pfizer/BioNTech   \n2    Moderna, Oxford/AstraZeneca, Pfizer/BioNTech   \n3    Moderna, Oxford/AstraZeneca, Pfizer/BioNTech   \n4    Moderna, Oxford/AstraZeneca, Pfizer/BioNTech   \n..                                            ...   \n369  Moderna, Oxford/AstraZeneca, Pfizer/BioNTech   \n370  Moderna, Oxford/AstraZeneca, Pfizer/BioNTech   \n371  Moderna, Oxford/AstraZeneca, Pfizer/BioNTech   \n372  Moderna, Oxford/AstraZeneca, Pfizer/BioNTech   \n373  Moderna, Oxford/AstraZeneca, Pfizer/BioNTech   \n\n                                           source_name  Year     Month  \\\n0                                Government of Romania  2020  December   \n1                                Government of Romania  2020  December   \n2                                Government of Romania  2020  December   \n3                                Government of Romania  2020  December   \n4                                Government of Romania  2020  December   \n..                                                 ...   ...       ...   \n369  National Institute for Public Health and the E...  2021     March   \n370  National Institute for Public Health and the E...  2021     March   \n371  National Institute for Public Health and the E...  2021     March   \n372  National Institute for Public Health and the E...  2021     March   \n373  National Institute for Public Health and the E...  2021     March   \n\n           Day  \n0       Sunday  \n1       Monday  \n2      Tuesday  \n3    Wednesday  \n4     Thursday  \n..         ...  \n369  Wednesday  \n370   Thursday  \n371     Friday  \n372   Saturday  \n373     Sunday  \n\n[374 rows x 17 columns]\n"
     ]
    }
   ],
   "source": [
    "\n",
    "\n",
    "#parsing to time format and extracting dates with 'created_at'\n",
    "x=vax_eu['date']=pd.to_datetime(vax_eu['date'], format='%d-%m-%y')\n",
    "\n",
    "Day=vax_eu['date'].dt.day_name()\n",
    "Month=vax_eu['date'].dt.month_name()\n",
    "Year=vax_eu['date'].dt.year\n",
    "\n",
    "#subsetting \n",
    "vax_eu['Year']=vax_eu['date'].dt.year\n",
    "vax_eu['Month']=vax_eu['date'].dt.month_name()\n",
    "vax_eu['Day']=vax_eu['date'].dt.day_name()\n",
    "print(vax_eu)"
   ]
  },
  {
   "cell_type": "code",
   "execution_count": 11,
   "metadata": {},
   "outputs": [
    {
     "output_type": "stream",
     "name": "stdout",
     "text": [
      "             people_fully_vaccinated\ncountry                             \nGermany                 1.077829e+06\nFrance                  6.569881e+05\nRomania                 2.829298e+05\nNetherlands             2.917221e+04\nLuxembourg              3.849091e+03\n"
     ]
    }
   ],
   "source": [
    "v=vax_eu.groupby(['country'])['people_fully_vaccinated'].mean()\n",
    "days=pd.DataFrame(data=v)\n",
    "vaccination_bar=days.sort_values(by='people_fully_vaccinated',ascending=False,axis=0)\n",
    "print(vaccination_bar)\n",
    "\n",
    "fig = px.bar(vaccination_bar, x=\"people_fully_vaccinated\", y=vaccination_bar.index, color='people_fully_vaccinated',color_continuous_scale='Blues',title=\"Vaccine order\")\n",
    "#plotly.offline.plot(fig, filename='v')"
   ]
  },
  {
   "cell_type": "code",
   "execution_count": 30,
   "metadata": {},
   "outputs": [
    {
     "output_type": "stream",
     "name": "stdout",
     "text": [
      "             total_vaccinations\n",
      "country                        \n",
      "Germany            3.641613e+06\n",
      "France             2.461369e+06\n",
      "Romania            8.833433e+05\n",
      "Netherlands        1.341337e+05\n",
      "Luxembourg         1.530626e+04\n",
      "C:\\Users\\sf\\AppData\\Local\\Programs\\Python\\Python38-32\\lib\\site-packages\\plotly\\offline\\offline.py:562: UserWarning:\n",
      "\n",
      "Your filename `v` didn't end with .html. Adding .html to the end of your file.\n",
      "\n"
     ]
    },
    {
     "output_type": "execute_result",
     "data": {
      "text/plain": [
       "'v.html'"
      ]
     },
     "metadata": {},
     "execution_count": 30
    }
   ],
   "source": [
    "a=vax_eu.groupby(['country'])['total_vaccinations'].mean()\n",
    "daysd=pd.DataFrame(data=a)\n",
    "vaccination_bart=daysd.sort_values(by='total_vaccinations',ascending=False,axis=0)\n",
    "print(vaccination_bart)\n",
    "\n",
    "fig = px.bar(vaccination_bart, x=\"total_vaccinations\", y=vaccination_bart.index, color='total_vaccinations',color_continuous_scale='Blues',title=\"Vaccine order\")\n",
    "#plotly.offline.plot(fig, filename='v')\n"
   ]
  },
  {
   "cell_type": "code",
   "execution_count": 36,
   "metadata": {},
   "outputs": [
    {
     "output_type": "error",
     "ename": "ValueError",
     "evalue": "Index contains duplicate entries, cannot reshape",
     "traceback": [
      "\u001b[1;31m---------------------------------------------------------------------------\u001b[0m",
      "\u001b[1;31mValueError\u001b[0m                                Traceback (most recent call last)",
      "\u001b[1;32m<ipython-input-36-38750eee56c0>\u001b[0m in \u001b[0;36m<module>\u001b[1;34m\u001b[0m\n\u001b[1;32m----> 1\u001b[1;33m \u001b[0mdf\u001b[0m \u001b[1;33m=\u001b[0m \u001b[0mvax_eu\u001b[0m\u001b[1;33m.\u001b[0m\u001b[0mpivot\u001b[0m\u001b[1;33m(\u001b[0m\u001b[0mindex\u001b[0m\u001b[1;33m=\u001b[0m\u001b[1;34m'date'\u001b[0m\u001b[1;33m,\u001b[0m \u001b[0mcolumns\u001b[0m\u001b[1;33m=\u001b[0m\u001b[1;34m'iso_code'\u001b[0m\u001b[1;33m,\u001b[0m \u001b[0mvalues\u001b[0m\u001b[1;33m=\u001b[0m\u001b[1;34m'people_fully_vaccinated'\u001b[0m\u001b[1;33m)\u001b[0m\u001b[1;33m.\u001b[0m\u001b[0msum\u001b[0m\u001b[1;33m(\u001b[0m\u001b[1;33m)\u001b[0m\u001b[1;33m\u001b[0m\u001b[1;33m\u001b[0m\u001b[0m\n\u001b[0m\u001b[0;32m      2\u001b[0m \u001b[0mvax_eu\u001b[0m\u001b[1;33m.\u001b[0m\u001b[0msort_values\u001b[0m\u001b[1;33m(\u001b[0m\u001b[0mascending\u001b[0m\u001b[1;33m=\u001b[0m\u001b[1;32mTrue\u001b[0m\u001b[1;33m)\u001b[0m\u001b[1;33m.\u001b[0m\u001b[0mplot\u001b[0m\u001b[1;33m(\u001b[0m\u001b[0mkind\u001b[0m\u001b[1;33m=\u001b[0m\u001b[1;34m'barh'\u001b[0m\u001b[1;33m,\u001b[0m \u001b[0mcolormap\u001b[0m\u001b[1;33m=\u001b[0m\u001b[1;34m'Blues'\u001b[0m\u001b[1;33m)\u001b[0m\u001b[1;33m.\u001b[0m\u001b[0mset_title\u001b[0m\u001b[1;33m(\u001b[0m\u001b[1;34m'Total sales in 2017 - per State'\u001b[0m\u001b[1;33m)\u001b[0m\u001b[1;33m\u001b[0m\u001b[1;33m\u001b[0m\u001b[0m\n\u001b[0;32m      3\u001b[0m \u001b[0mplt\u001b[0m\u001b[1;33m.\u001b[0m\u001b[0mxlabel\u001b[0m\u001b[1;33m(\u001b[0m\u001b[1;34m'Total units sold'\u001b[0m\u001b[1;33m)\u001b[0m\u001b[1;33m\u001b[0m\u001b[1;33m\u001b[0m\u001b[0m\n",
      "\u001b[1;32m~\\AppData\\Local\\Programs\\Python\\Python38-32\\lib\\site-packages\\pandas\\core\\frame.py\u001b[0m in \u001b[0;36mpivot\u001b[1;34m(self, index, columns, values)\u001b[0m\n\u001b[0;32m   5921\u001b[0m         \u001b[1;32mfrom\u001b[0m \u001b[0mpandas\u001b[0m\u001b[1;33m.\u001b[0m\u001b[0mcore\u001b[0m\u001b[1;33m.\u001b[0m\u001b[0mreshape\u001b[0m\u001b[1;33m.\u001b[0m\u001b[0mpivot\u001b[0m \u001b[1;32mimport\u001b[0m \u001b[0mpivot\u001b[0m\u001b[1;33m\u001b[0m\u001b[1;33m\u001b[0m\u001b[0m\n\u001b[0;32m   5922\u001b[0m \u001b[1;33m\u001b[0m\u001b[0m\n\u001b[1;32m-> 5923\u001b[1;33m         \u001b[1;32mreturn\u001b[0m \u001b[0mpivot\u001b[0m\u001b[1;33m(\u001b[0m\u001b[0mself\u001b[0m\u001b[1;33m,\u001b[0m \u001b[0mindex\u001b[0m\u001b[1;33m=\u001b[0m\u001b[0mindex\u001b[0m\u001b[1;33m,\u001b[0m \u001b[0mcolumns\u001b[0m\u001b[1;33m=\u001b[0m\u001b[0mcolumns\u001b[0m\u001b[1;33m,\u001b[0m \u001b[0mvalues\u001b[0m\u001b[1;33m=\u001b[0m\u001b[0mvalues\u001b[0m\u001b[1;33m)\u001b[0m\u001b[1;33m\u001b[0m\u001b[1;33m\u001b[0m\u001b[0m\n\u001b[0m\u001b[0;32m   5924\u001b[0m \u001b[1;33m\u001b[0m\u001b[0m\n\u001b[0;32m   5925\u001b[0m     _shared_docs[\n",
      "\u001b[1;32m~\\AppData\\Local\\Programs\\Python\\Python38-32\\lib\\site-packages\\pandas\\core\\reshape\\pivot.py\u001b[0m in \u001b[0;36mpivot\u001b[1;34m(data, index, columns, values)\u001b[0m\n\u001b[0;32m    446\u001b[0m         \u001b[1;32melse\u001b[0m\u001b[1;33m:\u001b[0m\u001b[1;33m\u001b[0m\u001b[1;33m\u001b[0m\u001b[0m\n\u001b[0;32m    447\u001b[0m             \u001b[0mindexed\u001b[0m \u001b[1;33m=\u001b[0m \u001b[0mdata\u001b[0m\u001b[1;33m.\u001b[0m\u001b[0m_constructor_sliced\u001b[0m\u001b[1;33m(\u001b[0m\u001b[0mdata\u001b[0m\u001b[1;33m[\u001b[0m\u001b[0mvalues\u001b[0m\u001b[1;33m]\u001b[0m\u001b[1;33m.\u001b[0m\u001b[0mvalues\u001b[0m\u001b[1;33m,\u001b[0m \u001b[0mindex\u001b[0m\u001b[1;33m=\u001b[0m\u001b[0mindex\u001b[0m\u001b[1;33m)\u001b[0m\u001b[1;33m\u001b[0m\u001b[1;33m\u001b[0m\u001b[0m\n\u001b[1;32m--> 448\u001b[1;33m     \u001b[1;32mreturn\u001b[0m \u001b[0mindexed\u001b[0m\u001b[1;33m.\u001b[0m\u001b[0munstack\u001b[0m\u001b[1;33m(\u001b[0m\u001b[0mcolumns\u001b[0m\u001b[1;33m)\u001b[0m\u001b[1;33m\u001b[0m\u001b[1;33m\u001b[0m\u001b[0m\n\u001b[0m\u001b[0;32m    449\u001b[0m \u001b[1;33m\u001b[0m\u001b[0m\n\u001b[0;32m    450\u001b[0m \u001b[1;33m\u001b[0m\u001b[0m\n",
      "\u001b[1;32m~\\AppData\\Local\\Programs\\Python\\Python38-32\\lib\\site-packages\\pandas\\core\\series.py\u001b[0m in \u001b[0;36munstack\u001b[1;34m(self, level, fill_value)\u001b[0m\n\u001b[0;32m   3548\u001b[0m         \u001b[1;32mfrom\u001b[0m \u001b[0mpandas\u001b[0m\u001b[1;33m.\u001b[0m\u001b[0mcore\u001b[0m\u001b[1;33m.\u001b[0m\u001b[0mreshape\u001b[0m\u001b[1;33m.\u001b[0m\u001b[0mreshape\u001b[0m \u001b[1;32mimport\u001b[0m \u001b[0munstack\u001b[0m\u001b[1;33m\u001b[0m\u001b[1;33m\u001b[0m\u001b[0m\n\u001b[0;32m   3549\u001b[0m \u001b[1;33m\u001b[0m\u001b[0m\n\u001b[1;32m-> 3550\u001b[1;33m         \u001b[1;32mreturn\u001b[0m \u001b[0munstack\u001b[0m\u001b[1;33m(\u001b[0m\u001b[0mself\u001b[0m\u001b[1;33m,\u001b[0m \u001b[0mlevel\u001b[0m\u001b[1;33m,\u001b[0m \u001b[0mfill_value\u001b[0m\u001b[1;33m)\u001b[0m\u001b[1;33m\u001b[0m\u001b[1;33m\u001b[0m\u001b[0m\n\u001b[0m\u001b[0;32m   3551\u001b[0m \u001b[1;33m\u001b[0m\u001b[0m\n\u001b[0;32m   3552\u001b[0m     \u001b[1;31m# ----------------------------------------------------------------------\u001b[0m\u001b[1;33m\u001b[0m\u001b[1;33m\u001b[0m\u001b[1;33m\u001b[0m\u001b[0m\n",
      "\u001b[1;32m~\\AppData\\Local\\Programs\\Python\\Python38-32\\lib\\site-packages\\pandas\\core\\reshape\\reshape.py\u001b[0m in \u001b[0;36munstack\u001b[1;34m(obj, level, fill_value)\u001b[0m\n\u001b[0;32m    412\u001b[0m         \u001b[1;32mif\u001b[0m \u001b[0mis_extension_array_dtype\u001b[0m\u001b[1;33m(\u001b[0m\u001b[0mobj\u001b[0m\u001b[1;33m.\u001b[0m\u001b[0mdtype\u001b[0m\u001b[1;33m)\u001b[0m\u001b[1;33m:\u001b[0m\u001b[1;33m\u001b[0m\u001b[1;33m\u001b[0m\u001b[0m\n\u001b[0;32m    413\u001b[0m             \u001b[1;32mreturn\u001b[0m \u001b[0m_unstack_extension_series\u001b[0m\u001b[1;33m(\u001b[0m\u001b[0mobj\u001b[0m\u001b[1;33m,\u001b[0m \u001b[0mlevel\u001b[0m\u001b[1;33m,\u001b[0m \u001b[0mfill_value\u001b[0m\u001b[1;33m)\u001b[0m\u001b[1;33m\u001b[0m\u001b[1;33m\u001b[0m\u001b[0m\n\u001b[1;32m--> 414\u001b[1;33m         unstacker = _Unstacker(\n\u001b[0m\u001b[0;32m    415\u001b[0m             \u001b[0mobj\u001b[0m\u001b[1;33m.\u001b[0m\u001b[0mvalues\u001b[0m\u001b[1;33m,\u001b[0m\u001b[1;33m\u001b[0m\u001b[1;33m\u001b[0m\u001b[0m\n\u001b[0;32m    416\u001b[0m             \u001b[0mobj\u001b[0m\u001b[1;33m.\u001b[0m\u001b[0mindex\u001b[0m\u001b[1;33m,\u001b[0m\u001b[1;33m\u001b[0m\u001b[1;33m\u001b[0m\u001b[0m\n",
      "\u001b[1;32m~\\AppData\\Local\\Programs\\Python\\Python38-32\\lib\\site-packages\\pandas\\core\\reshape\\reshape.py\u001b[0m in \u001b[0;36m__init__\u001b[1;34m(self, values, index, level, value_columns, fill_value, constructor)\u001b[0m\n\u001b[0;32m    139\u001b[0m \u001b[1;33m\u001b[0m\u001b[0m\n\u001b[0;32m    140\u001b[0m         \u001b[0mself\u001b[0m\u001b[1;33m.\u001b[0m\u001b[0m_make_sorted_values_labels\u001b[0m\u001b[1;33m(\u001b[0m\u001b[1;33m)\u001b[0m\u001b[1;33m\u001b[0m\u001b[1;33m\u001b[0m\u001b[0m\n\u001b[1;32m--> 141\u001b[1;33m         \u001b[0mself\u001b[0m\u001b[1;33m.\u001b[0m\u001b[0m_make_selectors\u001b[0m\u001b[1;33m(\u001b[0m\u001b[1;33m)\u001b[0m\u001b[1;33m\u001b[0m\u001b[1;33m\u001b[0m\u001b[0m\n\u001b[0m\u001b[0;32m    142\u001b[0m \u001b[1;33m\u001b[0m\u001b[0m\n\u001b[0;32m    143\u001b[0m     \u001b[1;32mdef\u001b[0m \u001b[0m_make_sorted_values_labels\u001b[0m\u001b[1;33m(\u001b[0m\u001b[0mself\u001b[0m\u001b[1;33m)\u001b[0m\u001b[1;33m:\u001b[0m\u001b[1;33m\u001b[0m\u001b[1;33m\u001b[0m\u001b[0m\n",
      "\u001b[1;32m~\\AppData\\Local\\Programs\\Python\\Python38-32\\lib\\site-packages\\pandas\\core\\reshape\\reshape.py\u001b[0m in \u001b[0;36m_make_selectors\u001b[1;34m(self)\u001b[0m\n\u001b[0;32m    177\u001b[0m \u001b[1;33m\u001b[0m\u001b[0m\n\u001b[0;32m    178\u001b[0m         \u001b[1;32mif\u001b[0m \u001b[0mmask\u001b[0m\u001b[1;33m.\u001b[0m\u001b[0msum\u001b[0m\u001b[1;33m(\u001b[0m\u001b[1;33m)\u001b[0m \u001b[1;33m<\u001b[0m \u001b[0mlen\u001b[0m\u001b[1;33m(\u001b[0m\u001b[0mself\u001b[0m\u001b[1;33m.\u001b[0m\u001b[0mindex\u001b[0m\u001b[1;33m)\u001b[0m\u001b[1;33m:\u001b[0m\u001b[1;33m\u001b[0m\u001b[1;33m\u001b[0m\u001b[0m\n\u001b[1;32m--> 179\u001b[1;33m             \u001b[1;32mraise\u001b[0m \u001b[0mValueError\u001b[0m\u001b[1;33m(\u001b[0m\u001b[1;34m\"Index contains duplicate entries, cannot reshape\"\u001b[0m\u001b[1;33m)\u001b[0m\u001b[1;33m\u001b[0m\u001b[1;33m\u001b[0m\u001b[0m\n\u001b[0m\u001b[0;32m    180\u001b[0m \u001b[1;33m\u001b[0m\u001b[0m\n\u001b[0;32m    181\u001b[0m         \u001b[0mself\u001b[0m\u001b[1;33m.\u001b[0m\u001b[0mgroup_index\u001b[0m \u001b[1;33m=\u001b[0m \u001b[0mcomp_index\u001b[0m\u001b[1;33m\u001b[0m\u001b[1;33m\u001b[0m\u001b[0m\n",
      "\u001b[1;31mValueError\u001b[0m: Index contains duplicate entries, cannot reshape"
     ]
    }
   ],
   "source": [
    "df = vax_eu.pivot(index='date', columns='iso_code', values='people_fully_vaccinated').sum()\n",
    "vax_eu.sort_values(ascending=True).plot(kind='barh', colormap='Blues').set_title('Total sales in 2017 - per State')\n",
    "plt.xlabel('Total units sold')"
   ]
  },
  {
   "cell_type": "code",
   "execution_count": null,
   "metadata": {},
   "outputs": [],
   "source": []
  }
 ]
}